{
 "cells": [
  {
   "cell_type": "markdown",
   "id": "6d7f6f58-5082-40cb-9ccb-937aac42eaf9",
   "metadata": {},
   "source": [
    "\n",
    "Importing Libraries\n"
   ]
  },
  {
   "cell_type": "code",
   "execution_count": 1,
   "id": "1f2f9efa-406b-4363-b5ed-ef569b7094f2",
   "metadata": {},
   "outputs": [],
   "source": [
    "import numpy as np \n",
    "import pandas as pd\n",
    "import matplotlib.pyplot as plt\n",
    "import matplotlib.dates as mdates\n",
    "import seaborn as sns\n",
    "# plt.style.use('fivethirtyeight')\n",
    "# sns.set()\n",
    "\n",
    "from sklearn import preprocessing\n",
    "from sklearn.preprocessing import MinMaxScaler\n",
    "from sklearn.preprocessing import StandardScaler\n",
    "from sklearn.preprocessing import LabelEncoder\n",
    "from sklearn.cluster import KMeans\n",
    "from sklearn import metrics\n",
    "\n",
    "from sklearn.linear_model import LogisticRegression\n",
    "from sklearn.model_selection import train_test_split\n",
    "from sklearn.neighbors import KNeighborsClassifier\n",
    "from sklearn.decomposition import TruncatedSVD"
   ]
  },
  {
   "cell_type": "markdown",
   "id": "650b2bad-987e-4ac3-b00d-452c092e29e2",
   "metadata": {},
   "source": [
    "\n",
    "SubTask1 Exploratory Data Analysis:\n",
    "\n",
    "Loading Data\n"
   ]
  },
  {
   "cell_type": "code",
   "execution_count": 2,
   "id": "09c2429f-28ff-4187-99f8-dd6b86c47f92",
   "metadata": {},
   "outputs": [],
   "source": [
    "customers = pd.read_csv('./olist_customers_dataset.csv')\n",
    "geolocation = pd.read_csv('./olist_geolocation_dataset.csv')\n",
    "order_items = pd.read_csv('./olist_order_items_dataset.csv')\n",
    "order_payments = pd.read_csv('./olist_order_payments_dataset.csv')\n",
    "order_review = pd.read_csv('./olist_order_reviews_dataset.csv')\n",
    "orders = pd.read_csv('./olist_orders_dataset.csv')\n",
    "products = pd.read_csv('./olist_products_dataset.csv')\n",
    "sellers = pd.read_csv('./olist_sellers_dataset.csv')\n",
    "product_category_name_translation = pd.read_csv('./product_category_name_translation.csv')"
   ]
  },
  {
   "cell_type": "code",
   "execution_count": 3,
   "id": "0fb42112-3f95-4ebd-af36-471bd3cb5e77",
   "metadata": {
    "tags": []
   },
   "outputs": [
    {
     "data": {
      "text/plain": [
       "<bound method DataFrame.info of                             customer_id                customer_unique_id  \\\n",
       "0      06b8999e2fba1a1fbc88172c00ba8bc7  861eff4711a542e4b93843c6dd7febb0   \n",
       "1      18955e83d337fd6b2def6b18a428ac77  290c77bc529b7ac935b93aa66c333dc3   \n",
       "2      4e7b3e00288586ebd08712fdd0374a03  060e732b5b29e8181a18229c7b0b2b5e   \n",
       "3      b2b6027bc5c5109e529d4dc6358b12c3  259dac757896d24d7702b9acbbff3f3c   \n",
       "4      4f2d8ab171c80ec8364f7c12e35b23ad  345ecd01c38d18a9036ed96c73b8d066   \n",
       "...                                 ...                               ...   \n",
       "99436  17ddf5dd5d51696bb3d7c6291687be6f  1a29b476fee25c95fbafc67c5ac95cf8   \n",
       "99437  e7b71a9017aa05c9a7fd292d714858e8  d52a67c98be1cf6a5c84435bd38d095d   \n",
       "99438  5e28dfe12db7fb50a4b2f691faecea5e  e9f50caf99f032f0bf3c55141f019d99   \n",
       "99439  56b18e2166679b8a959d72dd06da27f9  73c2643a0a458b49f58cea58833b192e   \n",
       "99440  274fa6071e5e17fe303b9748641082c8  84732c5050c01db9b23e19ba39899398   \n",
       "\n",
       "       customer_zip_code_prefix          customer_city customer_state  \n",
       "0                         14409                 franca             SP  \n",
       "1                          9790  sao bernardo do campo             SP  \n",
       "2                          1151              sao paulo             SP  \n",
       "3                          8775        mogi das cruzes             SP  \n",
       "4                         13056               campinas             SP  \n",
       "...                         ...                    ...            ...  \n",
       "99436                      3937              sao paulo             SP  \n",
       "99437                      6764        taboao da serra             SP  \n",
       "99438                     60115              fortaleza             CE  \n",
       "99439                     92120                 canoas             RS  \n",
       "99440                      6703                  cotia             SP  \n",
       "\n",
       "[99441 rows x 5 columns]>"
      ]
     },
     "execution_count": 3,
     "metadata": {},
     "output_type": "execute_result"
    }
   ],
   "source": [
    "customers.info"
   ]
  },
  {
   "cell_type": "code",
   "execution_count": 4,
   "id": "63dfc0a5-320b-4fc6-9c66-27dd7f4452f4",
   "metadata": {},
   "outputs": [],
   "source": [
    "# plt.figure(figsize=(10, 10))\n",
    "# sns.pairplot(order_items)"
   ]
  },
  {
   "cell_type": "markdown",
   "id": "4dd1ccbe-0cc4-4d0b-ad3e-44a3d37c6740",
   "metadata": {},
   "source": [
    "\n",
    "Check for missing values and noise:\n"
   ]
  },
  {
   "cell_type": "code",
   "execution_count": 5,
   "id": "38ea23ac-7b1c-43f3-9e98-398f0b8612c5",
   "metadata": {
    "tags": []
   },
   "outputs": [
    {
     "name": "stdout",
     "output_type": "stream",
     "text": [
      "customer_id                 0\n",
      "customer_unique_id          0\n",
      "customer_zip_code_prefix    0\n",
      "customer_city               0\n",
      "customer_state              0\n",
      "dtype: int64\n",
      "----------------------\n",
      "geolocation_zip_code_prefix    0\n",
      "geolocation_lat                0\n",
      "geolocation_lng                0\n",
      "geolocation_city               0\n",
      "geolocation_state              0\n",
      "dtype: int64\n",
      "----------------------\n",
      "order_id               0\n",
      "order_item_id          0\n",
      "product_id             0\n",
      "seller_id              0\n",
      "shipping_limit_date    0\n",
      "price                  0\n",
      "freight_value          0\n",
      "dtype: int64\n",
      "----------------------\n",
      "order_id                0\n",
      "payment_sequential      0\n",
      "payment_type            0\n",
      "payment_installments    0\n",
      "payment_value           0\n",
      "dtype: int64\n",
      "----------------------\n",
      "order_id                            0\n",
      "customer_id                         0\n",
      "order_status                        0\n",
      "order_purchase_timestamp            0\n",
      "order_approved_at                 160\n",
      "order_delivered_carrier_date     1783\n",
      "order_delivered_customer_date    2965\n",
      "order_estimated_delivery_date       0\n",
      "dtype: int64\n",
      "----------------------\n",
      "product_id                      0\n",
      "product_category_name         610\n",
      "product_name_lenght           610\n",
      "product_description_lenght    610\n",
      "product_photos_qty            610\n",
      "product_weight_g                2\n",
      "product_length_cm               2\n",
      "product_height_cm               2\n",
      "product_width_cm                2\n",
      "dtype: int64\n",
      "----------------------\n",
      "seller_id                 0\n",
      "seller_zip_code_prefix    0\n",
      "seller_city               0\n",
      "seller_state              0\n",
      "dtype: int64\n",
      "----------------------\n",
      "product_category_name            0\n",
      "product_category_name_english    0\n",
      "dtype: int64\n",
      "----------------------\n",
      "review_id                      0\n",
      "order_id                       0\n",
      "review_score                   0\n",
      "review_comment_title       88285\n",
      "review_comment_message     58256\n",
      "review_creation_date           0\n",
      "review_answer_timestamp        0\n",
      "dtype: int64\n",
      "----------------------\n"
     ]
    }
   ],
   "source": [
    "print(customers.isna().sum())\n",
    "print(\"----------------------\")\n",
    "print(geolocation.isna().sum())\n",
    "print(\"----------------------\")\n",
    "print(order_items.isna().sum())\n",
    "print(\"----------------------\")\n",
    "print(order_payments.isna().sum())\n",
    "print(\"----------------------\")\n",
    "print(orders.isna().sum())\n",
    "print(\"----------------------\")\n",
    "print(products.isna().sum())\n",
    "print(\"----------------------\")\n",
    "print(sellers.isna().sum())\n",
    "print(\"----------------------\")\n",
    "print(product_category_name_translation.isna().sum())\n",
    "print(\"----------------------\")\n",
    "print(order_review.isna().sum())\n",
    "print(\"----------------------\")"
   ]
  },
  {
   "cell_type": "markdown",
   "id": "1ab0b2e0-5fdc-4748-817b-b9e60254ed91",
   "metadata": {},
   "source": [
    "Visualise missing values"
   ]
  },
  {
   "cell_type": "code",
   "execution_count": 6,
   "id": "72ffaabb-e15b-4a2b-a876-3e9b497534a5",
   "metadata": {
    "tags": []
   },
   "outputs": [
    {
     "data": {
      "text/plain": [
       "<AxesSubplot:>"
      ]
     },
     "execution_count": 6,
     "metadata": {},
     "output_type": "execute_result"
    },
    {
     "data": {
      "image/png": "[encoded data removed]",
      "text/plain": [
       "<Figure size 864x432 with 2 Axes>"
      ]
     },
     "metadata": {
      "needs_background": "light"
     },
     "output_type": "display_data"
    }
   ],
   "source": [
    "plt.figure(figsize=(12,6))\n",
    "sns.heatmap(orders.isnull(), yticklabels=False, cbar=True, cmap='viridis')"
   ]
  },
  {
   "cell_type": "code",
   "execution_count": 7,
   "id": "3a8e3da1-09ba-49cb-8f0c-f879c1ade28c",
   "metadata": {
    "tags": []
   },
   "outputs": [
    {
     "data": {
      "text/plain": [
       "<AxesSubplot:>"
      ]
     },
     "execution_count": 7,
     "metadata": {},
     "output_type": "execute_result"
    },
    {
     "data": {
      "image/png": "[encoded data removed]",
      "text/plain": [
       "<Figure size 864x432 with 2 Axes>"
      ]
     },
     "metadata": {
      "needs_background": "light"
     },
     "output_type": "display_data"
    }
   ],
   "source": [
    "plt.figure(figsize=(12,6))\n",
    "sns.heatmap(products.isnull(), yticklabels=False, cbar=True, cmap='viridis')"
   ]
  },
  {
   "cell_type": "code",
   "execution_count": 8,
   "id": "2eecf57c-91b0-43b9-acce-1b23911f6da4",
   "metadata": {
    "tags": []
   },
   "outputs": [
    {
     "data": {
      "text/plain": [
       "<AxesSubplot:>"
      ]
     },
     "execution_count": 8,
     "metadata": {},
     "output_type": "execute_result"
    },
    {
     "data": {
      "image/png": "[encoded data removed]",
      "text/plain": [
       "<Figure size 864x432 with 2 Axes>"
      ]
     },
     "metadata": {
      "needs_background": "light"
     },
     "output_type": "display_data"
    }
   ],
   "source": [
    "plt.figure(figsize=(12,6))\n",
    "sns.heatmap(order_review.isnull(), yticklabels=False, cbar=True, cmap='viridis')"
   ]
  },
  {
   "cell_type": "markdown",
   "id": "55145b24-f9ee-49c4-9888-c204661518c9",
   "metadata": {},
   "source": [
    "This code will show the number of missing values in each column of each dataframe. If there are missing values, we can decide whether to remove the rows or fill in the missing values with a mean or median."
   ]
  },
  {
   "cell_type": "code",
   "execution_count": 9,
   "id": "2ea5332b-3cd9-468c-a6dc-a083b508b1f1",
   "metadata": {
    "tags": []
   },
   "outputs": [
    {
     "data": {
      "text/html": [
       "<div>\n",
       "<style scoped>\n",
       "    .dataframe tbody tr th:only-of-type {\n",
       "        vertical-align: middle;\n",
       "    }\n",
       "\n",
       "    .dataframe tbody tr th {\n",
       "        vertical-align: top;\n",
       "    }\n",
       "\n",
       "    .dataframe thead th {\n",
       "        text-align: right;\n",
       "    }\n",
       "</style>\n",
       "<table border=\"1\" class=\"dataframe\">\n",
       "  <thead>\n",
       "    <tr style=\"text-align: right;\">\n",
       "      <th></th>\n",
       "      <th>order_id</th>\n",
       "      <th>customer_id</th>\n",
       "      <th>order_status</th>\n",
       "      <th>order_purchase_timestamp</th>\n",
       "      <th>order_approved_at</th>\n",
       "      <th>order_delivered_carrier_date</th>\n",
       "      <th>order_delivered_customer_date</th>\n",
       "      <th>order_estimated_delivery_date</th>\n",
       "    </tr>\n",
       "  </thead>\n",
       "  <tbody>\n",
       "    <tr>\n",
       "      <th>0</th>\n",
       "      <td>e481f51cbdc54678b7cc49136f2d6af7</td>\n",
       "      <td>9ef432eb6251297304e76186b10a928d</td>\n",
       "      <td>delivered</td>\n",
       "      <td>2017-10-02 10:56:33</td>\n",
       "      <td>2017-10-02 11:07:15</td>\n",
       "      <td>2017-10-04 19:55:00</td>\n",
       "      <td>2017-10-10 21:25:13</td>\n",
       "      <td>2017-10-18 00:00:00</td>\n",
       "    </tr>\n",
       "    <tr>\n",
       "      <th>1</th>\n",
       "      <td>53cdb2fc8bc7dce0b6741e2150273451</td>\n",
       "      <td>b0830fb4747a6c6d20dea0b8c802d7ef</td>\n",
       "      <td>delivered</td>\n",
       "      <td>2018-07-24 20:41:37</td>\n",
       "      <td>2018-07-26 03:24:27</td>\n",
       "      <td>2018-07-26 14:31:00</td>\n",
       "      <td>2018-08-07 15:27:45</td>\n",
       "      <td>2018-08-13 00:00:00</td>\n",
       "    </tr>\n",
       "    <tr>\n",
       "      <th>2</th>\n",
       "      <td>47770eb9100c2d0c44946d9cf07ec65d</td>\n",
       "      <td>41ce2a54c0b03bf3443c3d931a367089</td>\n",
       "      <td>delivered</td>\n",
       "      <td>2018-08-08 08:38:49</td>\n",
       "      <td>2018-08-08 08:55:23</td>\n",
       "      <td>2018-08-08 13:50:00</td>\n",
       "      <td>2018-08-17 18:06:29</td>\n",
       "      <td>2018-09-04 00:00:00</td>\n",
       "    </tr>\n",
       "    <tr>\n",
       "      <th>3</th>\n",
       "      <td>949d5b44dbf5de918fe9c16f97b45f8a</td>\n",
       "      <td>f88197465ea7920adcdbec7375364d82</td>\n",
       "      <td>delivered</td>\n",
       "      <td>2017-11-18 19:28:06</td>\n",
       "      <td>2017-11-18 19:45:59</td>\n",
       "      <td>2017-11-22 13:39:59</td>\n",
       "      <td>2017-12-02 00:28:42</td>\n",
       "      <td>2017-12-15 00:00:00</td>\n",
       "    </tr>\n",
       "    <tr>\n",
       "      <th>4</th>\n",
       "      <td>ad21c59c0840e6cb83a9ceb5573f8159</td>\n",
       "      <td>8ab97904e6daea8866dbdbc4fb7aad2c</td>\n",
       "      <td>delivered</td>\n",
       "      <td>2018-02-13 21:18:39</td>\n",
       "      <td>2018-02-13 22:20:29</td>\n",
       "      <td>2018-02-14 19:46:34</td>\n",
       "      <td>2018-02-16 18:17:02</td>\n",
       "      <td>2018-02-26 00:00:00</td>\n",
       "    </tr>\n",
       "    <tr>\n",
       "      <th>5</th>\n",
       "      <td>a4591c265e18cb1dcee52889e2d8acc3</td>\n",
       "      <td>503740e9ca751ccdda7ba28e9ab8f608</td>\n",
       "      <td>delivered</td>\n",
       "      <td>2017-07-09 21:57:05</td>\n",
       "      <td>2017-07-09 22:10:13</td>\n",
       "      <td>2017-07-11 14:58:04</td>\n",
       "      <td>2017-07-26 10:57:55</td>\n",
       "      <td>2017-08-01 00:00:00</td>\n",
       "    </tr>\n",
       "    <tr>\n",
       "      <th>6</th>\n",
       "      <td>136cce7faa42fdb2cefd53fdc79a6098</td>\n",
       "      <td>ed0271e0b7da060a393796590e7b737a</td>\n",
       "      <td>invoiced</td>\n",
       "      <td>2017-04-11 12:22:08</td>\n",
       "      <td>2017-04-13 13:25:17</td>\n",
       "      <td>2017-05-22 10:07:46</td>\n",
       "      <td>2017-05-26 12:55:51</td>\n",
       "      <td>2017-05-09 00:00:00</td>\n",
       "    </tr>\n",
       "    <tr>\n",
       "      <th>7</th>\n",
       "      <td>6514b8ad8028c9f2cc2374ded245783f</td>\n",
       "      <td>9bdf08b4b3b52b5526ff42d37d47f222</td>\n",
       "      <td>delivered</td>\n",
       "      <td>2017-05-16 13:10:30</td>\n",
       "      <td>2017-05-16 13:22:11</td>\n",
       "      <td>2017-05-22 10:07:46</td>\n",
       "      <td>2017-05-26 12:55:51</td>\n",
       "      <td>2017-06-07 00:00:00</td>\n",
       "    </tr>\n",
       "    <tr>\n",
       "      <th>8</th>\n",
       "      <td>76c6e866289321a7c93b82b54852dc33</td>\n",
       "      <td>f54a9f0e6b351c431402b8461ea51999</td>\n",
       "      <td>delivered</td>\n",
       "      <td>2017-01-23 18:29:09</td>\n",
       "      <td>2017-01-25 02:50:47</td>\n",
       "      <td>2017-01-26 14:16:31</td>\n",
       "      <td>2017-02-02 14:08:10</td>\n",
       "      <td>2017-03-06 00:00:00</td>\n",
       "    </tr>\n",
       "    <tr>\n",
       "      <th>9</th>\n",
       "      <td>e69bfb5eb88e0ed6a785585b27e16dbf</td>\n",
       "      <td>31ad1d1b63eb9962463f764d4e6e0c9d</td>\n",
       "      <td>delivered</td>\n",
       "      <td>2017-07-29 11:55:02</td>\n",
       "      <td>2017-07-29 12:05:32</td>\n",
       "      <td>2017-08-10 19:45:24</td>\n",
       "      <td>2017-08-16 17:14:30</td>\n",
       "      <td>2017-08-23 00:00:00</td>\n",
       "    </tr>\n",
       "  </tbody>\n",
       "</table>\n",
       "</div>"
      ],
      "text/plain": [
       "                           order_id                       customer_id  \\\n",
       "0  e481f51cbdc54678b7cc49136f2d6af7  9ef432eb6251297304e76186b10a928d   \n",
       "1  53cdb2fc8bc7dce0b6741e2150273451  b0830fb4747a6c6d20dea0b8c802d7ef   \n",
       "2  47770eb9100c2d0c44946d9cf07ec65d  41ce2a54c0b03bf3443c3d931a367089   \n",
       "3  949d5b44dbf5de918fe9c16f97b45f8a  f88197465ea7920adcdbec7375364d82   \n",
       "4  ad21c59c0840e6cb83a9ceb5573f8159  8ab97904e6daea8866dbdbc4fb7aad2c   \n",
       "5  a4591c265e18cb1dcee52889e2d8acc3  503740e9ca751ccdda7ba28e9ab8f608   \n",
       "6  136cce7faa42fdb2cefd53fdc79a6098  ed0271e0b7da060a393796590e7b737a   \n",
       "7  6514b8ad8028c9f2cc2374ded245783f  9bdf08b4b3b52b5526ff42d37d47f222   \n",
       "8  76c6e866289321a7c93b82b54852dc33  f54a9f0e6b351c431402b8461ea51999   \n",
       "9  e69bfb5eb88e0ed6a785585b27e16dbf  31ad1d1b63eb9962463f764d4e6e0c9d   \n",
       "\n",
       "  order_status order_purchase_timestamp    order_approved_at  \\\n",
       "0    delivered      2017-10-02 10:56:33  2017-10-02 11:07:15   \n",
       "1    delivered      2018-07-24 20:41:37  2018-07-26 03:24:27   \n",
       "2    delivered      2018-08-08 08:38:49  2018-08-08 08:55:23   \n",
       "3    delivered      2017-11-18 19:28:06  2017-11-18 19:45:59   \n",
       "4    delivered      2018-02-13 21:18:39  2018-02-13 22:20:29   \n",
       "5    delivered      2017-07-09 21:57:05  2017-07-09 22:10:13   \n",
       "6     invoiced      2017-04-11 12:22:08  2017-04-13 13:25:17   \n",
       "7    delivered      2017-05-16 13:10:30  2017-05-16 13:22:11   \n",
       "8    delivered      2017-01-23 18:29:09  2017-01-25 02:50:47   \n",
       "9    delivered      2017-07-29 11:55:02  2017-07-29 12:05:32   \n",
       "\n",
       "  order_delivered_carrier_date order_delivered_customer_date  \\\n",
       "0          2017-10-04 19:55:00           2017-10-10 21:25:13   \n",
       "1          2018-07-26 14:31:00           2018-08-07 15:27:45   \n",
       "2          2018-08-08 13:50:00           2018-08-17 18:06:29   \n",
       "3          2017-11-22 13:39:59           2017-12-02 00:28:42   \n",
       "4          2018-02-14 19:46:34           2018-02-16 18:17:02   \n",
       "5          2017-07-11 14:58:04           2017-07-26 10:57:55   \n",
       "6          2017-05-22 10:07:46           2017-05-26 12:55:51   \n",
       "7          2017-05-22 10:07:46           2017-05-26 12:55:51   \n",
       "8          2017-01-26 14:16:31           2017-02-02 14:08:10   \n",
       "9          2017-08-10 19:45:24           2017-08-16 17:14:30   \n",
       "\n",
       "  order_estimated_delivery_date  \n",
       "0           2017-10-18 00:00:00  \n",
       "1           2018-08-13 00:00:00  \n",
       "2           2018-09-04 00:00:00  \n",
       "3           2017-12-15 00:00:00  \n",
       "4           2018-02-26 00:00:00  \n",
       "5           2017-08-01 00:00:00  \n",
       "6           2017-05-09 00:00:00  \n",
       "7           2017-06-07 00:00:00  \n",
       "8           2017-03-06 00:00:00  \n",
       "9           2017-08-23 00:00:00  "
      ]
     },
     "execution_count": 9,
     "metadata": {},
     "output_type": "execute_result"
    }
   ],
   "source": [
    "orders.fillna(method= 'bfill', axis = 0).fillna(0).head(10)"
   ]
  },
  {
   "cell_type": "code",
   "execution_count": 10,
   "id": "601095e7-eca8-4c7c-8196-c79eaed76b07",
   "metadata": {
    "tags": []
   },
   "outputs": [
    {
     "data": {
      "text/html": [
       "<div>\n",
       "<style scoped>\n",
       "    .dataframe tbody tr th:only-of-type {\n",
       "        vertical-align: middle;\n",
       "    }\n",
       "\n",
       "    .dataframe tbody tr th {\n",
       "        vertical-align: top;\n",
       "    }\n",
       "\n",
       "    .dataframe thead th {\n",
       "        text-align: right;\n",
       "    }\n",
       "</style>\n",
       "<table border=\"1\" class=\"dataframe\">\n",
       "  <thead>\n",
       "    <tr style=\"text-align: right;\">\n",
       "      <th></th>\n",
       "      <th>product_id</th>\n",
       "      <th>product_category_name</th>\n",
       "      <th>product_name_lenght</th>\n",
       "      <th>product_description_lenght</th>\n",
       "      <th>product_photos_qty</th>\n",
       "      <th>product_weight_g</th>\n",
       "      <th>product_length_cm</th>\n",
       "      <th>product_height_cm</th>\n",
       "      <th>product_width_cm</th>\n",
       "    </tr>\n",
       "  </thead>\n",
       "  <tbody>\n",
       "    <tr>\n",
       "      <th>32851</th>\n",
       "      <td>026311ea0b72ef8c80ebf91efd36b499</td>\n",
       "      <td>bebes</td>\n",
       "      <td>52.0</td>\n",
       "      <td>708.0</td>\n",
       "      <td>1.0</td>\n",
       "      <td>300.0</td>\n",
       "      <td>18.0</td>\n",
       "      <td>8.0</td>\n",
       "      <td>24.0</td>\n",
       "    </tr>\n",
       "    <tr>\n",
       "      <th>32852</th>\n",
       "      <td>c4ceee876c82b8328e9c293fa0e1989b</td>\n",
       "      <td>bebes</td>\n",
       "      <td>55.0</td>\n",
       "      <td>1636.0</td>\n",
       "      <td>1.0</td>\n",
       "      <td>700.0</td>\n",
       "      <td>28.0</td>\n",
       "      <td>3.0</td>\n",
       "      <td>43.0</td>\n",
       "    </tr>\n",
       "    <tr>\n",
       "      <th>32853</th>\n",
       "      <td>34c84b2e246f5904a5b3597b00240ea2</td>\n",
       "      <td>bebes</td>\n",
       "      <td>55.0</td>\n",
       "      <td>1636.0</td>\n",
       "      <td>1.0</td>\n",
       "      <td>600.0</td>\n",
       "      <td>20.0</td>\n",
       "      <td>13.0</td>\n",
       "      <td>13.0</td>\n",
       "    </tr>\n",
       "    <tr>\n",
       "      <th>32854</th>\n",
       "      <td>8d99a7ed81f061ceed740d8900be880a</td>\n",
       "      <td>cama_mesa_banho</td>\n",
       "      <td>55.0</td>\n",
       "      <td>396.0</td>\n",
       "      <td>1.0</td>\n",
       "      <td>3775.0</td>\n",
       "      <td>35.0</td>\n",
       "      <td>13.0</td>\n",
       "      <td>25.0</td>\n",
       "    </tr>\n",
       "    <tr>\n",
       "      <th>32855</th>\n",
       "      <td>75bc0bb91f61a5baa249e4db903eb504</td>\n",
       "      <td>ferramentas_jardim</td>\n",
       "      <td>58.0</td>\n",
       "      <td>143.0</td>\n",
       "      <td>1.0</td>\n",
       "      <td>3800.0</td>\n",
       "      <td>35.0</td>\n",
       "      <td>35.0</td>\n",
       "      <td>25.0</td>\n",
       "    </tr>\n",
       "    <tr>\n",
       "      <th>...</th>\n",
       "      <td>...</td>\n",
       "      <td>...</td>\n",
       "      <td>...</td>\n",
       "      <td>...</td>\n",
       "      <td>...</td>\n",
       "      <td>...</td>\n",
       "      <td>...</td>\n",
       "      <td>...</td>\n",
       "      <td>...</td>\n",
       "    </tr>\n",
       "    <tr>\n",
       "      <th>32946</th>\n",
       "      <td>a0b7d5a992ccda646f2d34e418fff5a0</td>\n",
       "      <td>moveis_decoracao</td>\n",
       "      <td>45.0</td>\n",
       "      <td>67.0</td>\n",
       "      <td>2.0</td>\n",
       "      <td>12300.0</td>\n",
       "      <td>40.0</td>\n",
       "      <td>40.0</td>\n",
       "      <td>40.0</td>\n",
       "    </tr>\n",
       "    <tr>\n",
       "      <th>32947</th>\n",
       "      <td>bf4538d88321d0fd4412a93c974510e6</td>\n",
       "      <td>construcao_ferramentas_iluminacao</td>\n",
       "      <td>41.0</td>\n",
       "      <td>971.0</td>\n",
       "      <td>1.0</td>\n",
       "      <td>1700.0</td>\n",
       "      <td>16.0</td>\n",
       "      <td>19.0</td>\n",
       "      <td>16.0</td>\n",
       "    </tr>\n",
       "    <tr>\n",
       "      <th>32948</th>\n",
       "      <td>9a7c6041fa9592d9d9ef6cfe62a71f8c</td>\n",
       "      <td>cama_mesa_banho</td>\n",
       "      <td>50.0</td>\n",
       "      <td>799.0</td>\n",
       "      <td>1.0</td>\n",
       "      <td>1400.0</td>\n",
       "      <td>27.0</td>\n",
       "      <td>7.0</td>\n",
       "      <td>27.0</td>\n",
       "    </tr>\n",
       "    <tr>\n",
       "      <th>32949</th>\n",
       "      <td>83808703fc0706a22e264b9d75f04a2e</td>\n",
       "      <td>informatica_acessorios</td>\n",
       "      <td>60.0</td>\n",
       "      <td>156.0</td>\n",
       "      <td>2.0</td>\n",
       "      <td>700.0</td>\n",
       "      <td>31.0</td>\n",
       "      <td>13.0</td>\n",
       "      <td>20.0</td>\n",
       "    </tr>\n",
       "    <tr>\n",
       "      <th>32950</th>\n",
       "      <td>106392145fca363410d287a815be6de4</td>\n",
       "      <td>cama_mesa_banho</td>\n",
       "      <td>58.0</td>\n",
       "      <td>309.0</td>\n",
       "      <td>1.0</td>\n",
       "      <td>2083.0</td>\n",
       "      <td>12.0</td>\n",
       "      <td>2.0</td>\n",
       "      <td>7.0</td>\n",
       "    </tr>\n",
       "  </tbody>\n",
       "</table>\n",
       "<p>100 rows × 9 columns</p>\n",
       "</div>"
      ],
      "text/plain": [
       "                             product_id              product_category_name  \\\n",
       "32851  026311ea0b72ef8c80ebf91efd36b499                              bebes   \n",
       "32852  c4ceee876c82b8328e9c293fa0e1989b                              bebes   \n",
       "32853  34c84b2e246f5904a5b3597b00240ea2                              bebes   \n",
       "32854  8d99a7ed81f061ceed740d8900be880a                    cama_mesa_banho   \n",
       "32855  75bc0bb91f61a5baa249e4db903eb504                 ferramentas_jardim   \n",
       "...                                 ...                                ...   \n",
       "32946  a0b7d5a992ccda646f2d34e418fff5a0                   moveis_decoracao   \n",
       "32947  bf4538d88321d0fd4412a93c974510e6  construcao_ferramentas_iluminacao   \n",
       "32948  9a7c6041fa9592d9d9ef6cfe62a71f8c                    cama_mesa_banho   \n",
       "32949  83808703fc0706a22e264b9d75f04a2e             informatica_acessorios   \n",
       "32950  106392145fca363410d287a815be6de4                    cama_mesa_banho   \n",
       "\n",
       "       product_name_lenght  product_description_lenght  product_photos_qty  \\\n",
       "32851                 52.0                       708.0                 1.0   \n",
       "32852                 55.0                      1636.0                 1.0   \n",
       "32853                 55.0                      1636.0                 1.0   \n",
       "32854                 55.0                       396.0                 1.0   \n",
       "32855                 58.0                       143.0                 1.0   \n",
       "...                    ...                         ...                 ...   \n",
       "32946                 45.0                        67.0                 2.0   \n",
       "32947                 41.0                       971.0                 1.0   \n",
       "32948                 50.0                       799.0                 1.0   \n",
       "32949                 60.0                       156.0                 2.0   \n",
       "32950                 58.0                       309.0                 1.0   \n",
       "\n",
       "       product_weight_g  product_length_cm  product_height_cm  \\\n",
       "32851             300.0               18.0                8.0   \n",
       "32852             700.0               28.0                3.0   \n",
       "32853             600.0               20.0               13.0   \n",
       "32854            3775.0               35.0               13.0   \n",
       "32855            3800.0               35.0               35.0   \n",
       "...                 ...                ...                ...   \n",
       "32946           12300.0               40.0               40.0   \n",
       "32947            1700.0               16.0               19.0   \n",
       "32948            1400.0               27.0                7.0   \n",
       "32949             700.0               31.0               13.0   \n",
       "32950            2083.0               12.0                2.0   \n",
       "\n",
       "       product_width_cm  \n",
       "32851              24.0  \n",
       "32852              43.0  \n",
       "32853              13.0  \n",
       "32854              25.0  \n",
       "32855              25.0  \n",
       "...                 ...  \n",
       "32946              40.0  \n",
       "32947              16.0  \n",
       "32948              27.0  \n",
       "32949              20.0  \n",
       "32950               7.0  \n",
       "\n",
       "[100 rows x 9 columns]"
      ]
     },
     "execution_count": 10,
     "metadata": {},
     "output_type": "execute_result"
    }
   ],
   "source": [
    "products.fillna(method= 'bfill', axis = 0).fillna(0).tail(100)"
   ]
  },
  {
   "cell_type": "code",
   "execution_count": 11,
   "id": "e3aa2b5a-2ce6-4ade-9905-eee6e0788317",
   "metadata": {
    "tags": []
   },
   "outputs": [
    {
     "data": {
      "text/html": [
       "<div>\n",
       "<style scoped>\n",
       "    .dataframe tbody tr th:only-of-type {\n",
       "        vertical-align: middle;\n",
       "    }\n",
       "\n",
       "    .dataframe tbody tr th {\n",
       "        vertical-align: top;\n",
       "    }\n",
       "\n",
       "    .dataframe thead th {\n",
       "        text-align: right;\n",
       "    }\n",
       "</style>\n",
       "<table border=\"1\" class=\"dataframe\">\n",
       "  <thead>\n",
       "    <tr style=\"text-align: right;\">\n",
       "      <th></th>\n",
       "      <th>review_id</th>\n",
       "      <th>order_id</th>\n",
       "      <th>review_score</th>\n",
       "      <th>review_comment_title</th>\n",
       "      <th>review_comment_message</th>\n",
       "      <th>review_creation_date</th>\n",
       "      <th>review_answer_timestamp</th>\n",
       "    </tr>\n",
       "  </thead>\n",
       "  <tbody>\n",
       "    <tr>\n",
       "      <th>99900</th>\n",
       "      <td>92f7668f880c5774b78a928ec7e9e5a8</td>\n",
       "      <td>666cef1ea6542e749eed5394238041a2</td>\n",
       "      <td>5</td>\n",
       "      <td>entregue rapido</td>\n",
       "      <td>I loved the pendants, they came just the way I...</td>\n",
       "      <td>22/11/2017 00:00</td>\n",
       "      <td>22/11/2017 21:22</td>\n",
       "    </tr>\n",
       "    <tr>\n",
       "      <th>99901</th>\n",
       "      <td>f37aef9f15a081d0790c6e76ad630160</td>\n",
       "      <td>354f62589ab0a15eb57e820d6fcbe9b5</td>\n",
       "      <td>4</td>\n",
       "      <td>entregue rapido</td>\n",
       "      <td>Very good quality product!</td>\n",
       "      <td>05/04/2017 00:00</td>\n",
       "      <td>06/04/2017 17:51</td>\n",
       "    </tr>\n",
       "    <tr>\n",
       "      <th>99902</th>\n",
       "      <td>41ab6a6885ad757f124eb3879402dae3</td>\n",
       "      <td>e5cefdab54d9844f44c6d68f3611f145</td>\n",
       "      <td>5</td>\n",
       "      <td>entregue rapido</td>\n",
       "      <td>Very good quality product!</td>\n",
       "      <td>12/05/2018 00:00</td>\n",
       "      <td>12/05/2018 16:59</td>\n",
       "    </tr>\n",
       "    <tr>\n",
       "      <th>99903</th>\n",
       "      <td>94756df369bf6a028be944d3d05c8883</td>\n",
       "      <td>e2fbbc5e799749941a23275230ee1d8b</td>\n",
       "      <td>4</td>\n",
       "      <td>entregue rapido</td>\n",
       "      <td>Very good quality product!</td>\n",
       "      <td>15/03/2018 00:00</td>\n",
       "      <td>15/03/2018 12:53</td>\n",
       "    </tr>\n",
       "    <tr>\n",
       "      <th>99904</th>\n",
       "      <td>14a2d3113abbac24a5b463b8d1376d8f</td>\n",
       "      <td>4d0c3a21d494b800520fb1dbaa715164</td>\n",
       "      <td>3</td>\n",
       "      <td>entregue rapido</td>\n",
       "      <td>Very good quality product!</td>\n",
       "      <td>30/08/2018 00:00</td>\n",
       "      <td>31/08/2018 21:14</td>\n",
       "    </tr>\n",
       "    <tr>\n",
       "      <th>...</th>\n",
       "      <td>...</td>\n",
       "      <td>...</td>\n",
       "      <td>...</td>\n",
       "      <td>...</td>\n",
       "      <td>...</td>\n",
       "      <td>...</td>\n",
       "      <td>...</td>\n",
       "    </tr>\n",
       "    <tr>\n",
       "      <th>99995</th>\n",
       "      <td>f3897127253a9592a73be9bdfdf4ed7a</td>\n",
       "      <td>22ec9f0669f784db00fa86d035cf8602</td>\n",
       "      <td>5</td>\n",
       "      <td>0</td>\n",
       "      <td>Excellent backpack, super fast delivery. I hig...</td>\n",
       "      <td>09/12/2017 00:00</td>\n",
       "      <td>11/12/2017 20:06</td>\n",
       "    </tr>\n",
       "    <tr>\n",
       "      <th>99996</th>\n",
       "      <td>b3de70c89b1510c4cd3d0649fd302472</td>\n",
       "      <td>55d4004744368f5571d1f590031933e4</td>\n",
       "      <td>5</td>\n",
       "      <td>0</td>\n",
       "      <td>Excellent backpack, super fast delivery. I hig...</td>\n",
       "      <td>22/03/2018 00:00</td>\n",
       "      <td>23/03/2018 09:10</td>\n",
       "    </tr>\n",
       "    <tr>\n",
       "      <th>99997</th>\n",
       "      <td>1adeb9d84d72fe4e337617733eb85149</td>\n",
       "      <td>7725825d039fc1f0ceb7635e3f7d9206</td>\n",
       "      <td>4</td>\n",
       "      <td>0</td>\n",
       "      <td>I ordered the purchase of a Celtic/Prism/Meriv...</td>\n",
       "      <td>01/07/2018 00:00</td>\n",
       "      <td>02/07/2018 12:59</td>\n",
       "    </tr>\n",
       "    <tr>\n",
       "      <th>99998</th>\n",
       "      <td>be360f18f5df1e0541061c87021e6d93</td>\n",
       "      <td>f8bd3f2000c28c5342fedeb5e50f2e75</td>\n",
       "      <td>1</td>\n",
       "      <td>0</td>\n",
       "      <td>I ordered the purchase of a Celtic/Prism/Meriv...</td>\n",
       "      <td>15/12/2017 00:00</td>\n",
       "      <td>16/12/2017 01:29</td>\n",
       "    </tr>\n",
       "    <tr>\n",
       "      <th>99999</th>\n",
       "      <td>efe49f1d6f951dd88b51e6ccd4cc548f</td>\n",
       "      <td>90531360ecb1eec2a1fbb265a0db0508</td>\n",
       "      <td>1</td>\n",
       "      <td>0</td>\n",
       "      <td>my product arrived and I already have to retur...</td>\n",
       "      <td>03/07/2017 00:00</td>\n",
       "      <td>03/07/2017 21:01</td>\n",
       "    </tr>\n",
       "  </tbody>\n",
       "</table>\n",
       "<p>100 rows × 7 columns</p>\n",
       "</div>"
      ],
      "text/plain": [
       "                              review_id                          order_id  \\\n",
       "99900  92f7668f880c5774b78a928ec7e9e5a8  666cef1ea6542e749eed5394238041a2   \n",
       "99901  f37aef9f15a081d0790c6e76ad630160  354f62589ab0a15eb57e820d6fcbe9b5   \n",
       "99902  41ab6a6885ad757f124eb3879402dae3  e5cefdab54d9844f44c6d68f3611f145   \n",
       "99903  94756df369bf6a028be944d3d05c8883  e2fbbc5e799749941a23275230ee1d8b   \n",
       "99904  14a2d3113abbac24a5b463b8d1376d8f  4d0c3a21d494b800520fb1dbaa715164   \n",
       "...                                 ...                               ...   \n",
       "99995  f3897127253a9592a73be9bdfdf4ed7a  22ec9f0669f784db00fa86d035cf8602   \n",
       "99996  b3de70c89b1510c4cd3d0649fd302472  55d4004744368f5571d1f590031933e4   \n",
       "99997  1adeb9d84d72fe4e337617733eb85149  7725825d039fc1f0ceb7635e3f7d9206   \n",
       "99998  be360f18f5df1e0541061c87021e6d93  f8bd3f2000c28c5342fedeb5e50f2e75   \n",
       "99999  efe49f1d6f951dd88b51e6ccd4cc548f  90531360ecb1eec2a1fbb265a0db0508   \n",
       "\n",
       "       review_score review_comment_title  \\\n",
       "99900             5      entregue rapido   \n",
       "99901             4      entregue rapido   \n",
       "99902             5      entregue rapido   \n",
       "99903             4      entregue rapido   \n",
       "99904             3      entregue rapido   \n",
       "...             ...                  ...   \n",
       "99995             5                    0   \n",
       "99996             5                    0   \n",
       "99997             4                    0   \n",
       "99998             1                    0   \n",
       "99999             1                    0   \n",
       "\n",
       "                                  review_comment_message review_creation_date  \\\n",
       "99900  I loved the pendants, they came just the way I...     22/11/2017 00:00   \n",
       "99901                         Very good quality product!     05/04/2017 00:00   \n",
       "99902                         Very good quality product!     12/05/2018 00:00   \n",
       "99903                         Very good quality product!     15/03/2018 00:00   \n",
       "99904                         Very good quality product!     30/08/2018 00:00   \n",
       "...                                                  ...                  ...   \n",
       "99995  Excellent backpack, super fast delivery. I hig...     09/12/2017 00:00   \n",
       "99996  Excellent backpack, super fast delivery. I hig...     22/03/2018 00:00   \n",
       "99997  I ordered the purchase of a Celtic/Prism/Meriv...     01/07/2018 00:00   \n",
       "99998  I ordered the purchase of a Celtic/Prism/Meriv...     15/12/2017 00:00   \n",
       "99999  my product arrived and I already have to retur...     03/07/2017 00:00   \n",
       "\n",
       "      review_answer_timestamp  \n",
       "99900        22/11/2017 21:22  \n",
       "99901        06/04/2017 17:51  \n",
       "99902        12/05/2018 16:59  \n",
       "99903        15/03/2018 12:53  \n",
       "99904        31/08/2018 21:14  \n",
       "...                       ...  \n",
       "99995        11/12/2017 20:06  \n",
       "99996        23/03/2018 09:10  \n",
       "99997        02/07/2018 12:59  \n",
       "99998        16/12/2017 01:29  \n",
       "99999        03/07/2017 21:01  \n",
       "\n",
       "[100 rows x 7 columns]"
      ]
     },
     "execution_count": 11,
     "metadata": {},
     "output_type": "execute_result"
    }
   ],
   "source": [
    "order_review.fillna(method= 'bfill', axis = 0).fillna(0).tail(100)"
   ]
  },
  {
   "cell_type": "markdown",
   "id": "6ef6f7b0-c26b-49d5-9a91-f9e3258f3095",
   "metadata": {},
   "source": [
    "\n",
    "Check for noise:\n"
   ]
  },
  {
   "cell_type": "code",
   "execution_count": 12,
   "id": "fb5fd1b2-21a5-4c11-b2e6-d98b480ab203",
   "metadata": {
    "tags": []
   },
   "outputs": [
    {
     "data": {
      "text/plain": [
       "<AxesSubplot:xlabel='product_width_cm'>"
      ]
     },
     "execution_count": 12,
     "metadata": {},
     "output_type": "execute_result"
    },
    {
     "data": {
      "image/png": "[encoded data removed]",
      "text/plain": [
       "<Figure size 432x288 with 1 Axes>"
      ]
     },
     "metadata": {
      "needs_background": "light"
     },
     "output_type": "display_data"
    }
   ],
   "source": [
    "# Check for outliers in the order_item dataframe\n",
    "sns.boxplot(x=order_items['price'])\n",
    "\n",
    "# Check for outliers in the order_payments dataframe\n",
    "sns.boxplot(x=order_payments['payment_value'])\n",
    "\n",
    "# Check for outliers in the products dataframe\n",
    "sns.boxplot(x=products['product_width_cm'])"
   ]
  },
  {
   "cell_type": "code",
   "execution_count": 13,
   "id": "dd1c4b7a-337b-4adc-b848-c4ace1ce3abf",
   "metadata": {
    "tags": []
   },
   "outputs": [
    {
     "data": {
      "text/plain": [
       "<AxesSubplot:xlabel='product_height_cm'>"
      ]
     },
     "execution_count": 13,
     "metadata": {},
     "output_type": "execute_result"
    },
    {
     "data": {
      "image/png": "[encoded data removed]",
      "text/plain": [
       "<Figure size 432x288 with 1 Axes>"
      ]
     },
     "metadata": {
      "needs_background": "light"
     },
     "output_type": "display_data"
    }
   ],
   "source": [
    "sns.boxplot(x=products['product_height_cm'])"
   ]
  },
  {
   "cell_type": "code",
   "execution_count": 14,
   "id": "7722470e-c67a-495f-bfbf-a207f78cebce",
   "metadata": {
    "tags": []
   },
   "outputs": [
    {
     "data": {
      "text/plain": [
       "<AxesSubplot:xlabel='product_length_cm'>"
      ]
     },
     "execution_count": 14,
     "metadata": {},
     "output_type": "execute_result"
    },
    {
     "data": {
      "image/png": "[encoded data removed]",
      "text/plain": [
       "<Figure size 432x288 with 1 Axes>"
      ]
     },
     "metadata": {
      "needs_background": "light"
     },
     "output_type": "display_data"
    }
   ],
   "source": [
    "sns.boxplot(x=products['product_length_cm'])"
   ]
  },
  {
   "cell_type": "code",
   "execution_count": 15,
   "id": "ca93e8e0-780d-499f-881b-29220e1f94d9",
   "metadata": {
    "tags": []
   },
   "outputs": [
    {
     "data": {
      "text/plain": [
       "<AxesSubplot:xlabel='product_weight_g'>"
      ]
     },
     "execution_count": 15,
     "metadata": {},
     "output_type": "execute_result"
    },
    {
     "data": {
      "image/png": "[encoded data removed]",
      "text/plain": [
       "<Figure size 432x288 with 1 Axes>"
      ]
     },
     "metadata": {
      "needs_background": "light"
     },
     "output_type": "display_data"
    }
   ],
   "source": [
    "sns.boxplot(x=products['product_weight_g'])"
   ]
  },
  {
   "cell_type": "markdown",
   "id": "638553d2-6e7c-47e3-b01a-c3ce98416ce9",
   "metadata": {},
   "source": [
    "This code will generate boxplots for selected columns of each dataframe, allowing us to identify any outliers or extreme values that may be considered noise. If we identify noise, we can decide whether to remove the outliers or apply some transformation to the data, such as logarithmic transformation.By checking for missing values and noise in the dataframes, we can ensure that our data is clean and reliable for further analysis."
   ]
  },
  {
   "cell_type": "markdown",
   "id": "5c7c8e57-3ba2-46a7-9111-38ab156d45bc",
   "metadata": {},
   "source": [
    "Check for Duplicates"
   ]
  },
  {
   "cell_type": "code",
   "execution_count": 16,
   "id": "26539aba-f986-4087-b6ef-6bc87342006e",
   "metadata": {},
   "outputs": [
    {
     "data": {
      "text/plain": [
       "99441"
      ]
     },
     "execution_count": 16,
     "metadata": {},
     "output_type": "execute_result"
    }
   ],
   "source": [
    "# Let's start by checking whether all customer ids are unique\n",
    "## If we find duplicated customer ids we'll have to understand if there is a reason for appearing more than once in the data\n",
    "customers.customer_id.nunique()"
   ]
  },
  {
   "cell_type": "code",
   "execution_count": 17,
   "id": "4da9493e-db9c-4136-83aa-35c7669e37fd",
   "metadata": {},
   "outputs": [
    {
     "data": {
      "text/plain": [
       "99441"
      ]
     },
     "execution_count": 17,
     "metadata": {},
     "output_type": "execute_result"
    }
   ],
   "source": [
    "orders.order_id.nunique()"
   ]
  },
  {
   "cell_type": "code",
   "execution_count": 18,
   "id": "18b92cf7-096a-4827-b015-1c0b934a5f5b",
   "metadata": {},
   "outputs": [
    {
     "data": {
      "text/plain": [
       "3095"
      ]
     },
     "execution_count": 18,
     "metadata": {},
     "output_type": "execute_result"
    }
   ],
   "source": [
    "sellers.seller_id.nunique()"
   ]
  },
  {
   "cell_type": "code",
   "execution_count": 19,
   "id": "e9e135a4-eafe-4f95-a570-17b03a62a9ba",
   "metadata": {},
   "outputs": [
    {
     "data": {
      "text/plain": [
       "32951"
      ]
     },
     "execution_count": 19,
     "metadata": {},
     "output_type": "execute_result"
    }
   ],
   "source": [
    "products.product_id.nunique()"
   ]
  },
  {
   "cell_type": "markdown",
   "id": "1d858da8-c900-4e41-a1b6-72dab8c063e2",
   "metadata": {
    "tags": []
   },
   "source": [
    "\n",
    "Check if there's a timestamp data type that needs to be handled:\n"
   ]
  },
  {
   "cell_type": "code",
   "execution_count": 20,
   "id": "e09eb029-f3d1-421a-829e-6b2d9dc2818f",
   "metadata": {
    "tags": []
   },
   "outputs": [
    {
     "name": "stdout",
     "output_type": "stream",
     "text": [
      "customer_id                 object\n",
      "customer_unique_id          object\n",
      "customer_zip_code_prefix     int64\n",
      "customer_city               object\n",
      "customer_state              object\n",
      "dtype: object\n",
      "-----------------------\n",
      "geolocation_zip_code_prefix      int64\n",
      "geolocation_lat                float64\n",
      "geolocation_lng                float64\n",
      "geolocation_city                object\n",
      "geolocation_state               object\n",
      "dtype: object\n",
      "----------------------\n",
      "order_id                object\n",
      "order_item_id            int64\n",
      "product_id              object\n",
      "seller_id               object\n",
      "shipping_limit_date     object\n",
      "price                  float64\n",
      "freight_value          float64\n",
      "dtype: object\n",
      "----------------------\n",
      "order_id                 object\n",
      "payment_sequential        int64\n",
      "payment_type             object\n",
      "payment_installments      int64\n",
      "payment_value           float64\n",
      "dtype: object\n",
      "----------------------\n",
      "order_id                         object\n",
      "customer_id                      object\n",
      "order_status                     object\n",
      "order_purchase_timestamp         object\n",
      "order_approved_at                object\n",
      "order_delivered_carrier_date     object\n",
      "order_delivered_customer_date    object\n",
      "order_estimated_delivery_date    object\n",
      "dtype: object\n",
      "----------------------\n",
      "product_id                     object\n",
      "product_category_name          object\n",
      "product_name_lenght           float64\n",
      "product_description_lenght    float64\n",
      "product_photos_qty            float64\n",
      "product_weight_g              float64\n",
      "product_length_cm             float64\n",
      "product_height_cm             float64\n",
      "product_width_cm              float64\n",
      "dtype: object\n",
      "----------------------\n",
      "seller_id                 object\n",
      "seller_zip_code_prefix     int64\n",
      "seller_city               object\n",
      "seller_state              object\n",
      "dtype: object\n",
      "----------------------\n",
      "product_category_name            object\n",
      "product_category_name_english    object\n",
      "dtype: object\n",
      "----------------------\n",
      "review_id                  object\n",
      "order_id                   object\n",
      "review_score                int64\n",
      "review_comment_title       object\n",
      "review_comment_message     object\n",
      "review_creation_date       object\n",
      "review_answer_timestamp    object\n",
      "dtype: object\n",
      "----------------------\n"
     ]
    }
   ],
   "source": [
    "print(customers.dtypes)\n",
    "print(\"-----------------------\")\n",
    "print(geolocation.dtypes)\n",
    "print(\"----------------------\")\n",
    "print(order_items.dtypes)\n",
    "print(\"----------------------\")\n",
    "print(order_payments.dtypes)\n",
    "print(\"----------------------\")\n",
    "print(orders.dtypes)\n",
    "print(\"----------------------\")\n",
    "print(products.dtypes)\n",
    "print(\"----------------------\")\n",
    "print(sellers.dtypes)\n",
    "print(\"----------------------\")\n",
    "print(product_category_name_translation.dtypes)\n",
    "print(\"----------------------\")\n",
    "print(order_review.dtypes)\n",
    "print(\"----------------------\")"
   ]
  },
  {
   "cell_type": "markdown",
   "id": "9243e937-b36b-47a9-b712-e203f567cb76",
   "metadata": {},
   "source": [
    "convert to datetime format:"
   ]
  },
  {
   "cell_type": "code",
   "execution_count": 21,
   "id": "420bc669-c471-4d66-b125-049cbe534f85",
   "metadata": {
    "tags": []
   },
   "outputs": [],
   "source": [
    "order_items['shipping_limit_date'] = pd.to_datetime(order_items['shipping_limit_date'])\n",
    "order_review['review_creation_date'] = pd.to_datetime(order_review['review_creation_date'])\n",
    "order_review['review_answer_timestamp'] = pd.to_datetime(order_review['review_answer_timestamp'])\n",
    "orders['order_purchase_timestamp'] = pd.to_datetime(orders['order_purchase_timestamp'])\n",
    "orders['order_approved_at'] = pd.to_datetime(orders['order_approved_at'])\n",
    "orders['order_delivered_carrier_date'] = pd.to_datetime(orders['order_delivered_carrier_date'])\n",
    "orders['order_delivered_customer_date'] = pd.to_datetime(orders['order_delivered_customer_date'])\n",
    "orders['order_estimated_delivery_date'] = pd.to_datetime(orders['order_estimated_delivery_date'])"
   ]
  },
  {
   "cell_type": "markdown",
   "id": "fa6c3801-af99-4a5f-8863-6d20b7c1d9d9",
   "metadata": {},
   "source": [
    "Check for categorical data:"
   ]
  },
  {
   "cell_type": "code",
   "execution_count": 22,
   "id": "a29a3655-aae2-40e3-ba43-ef3495ae4982",
   "metadata": {
    "tags": []
   },
   "outputs": [
    {
     "name": "stdout",
     "output_type": "stream",
     "text": [
      "                            customer_id                customer_unique_id  \\\n",
      "0      06b8999e2fba1a1fbc88172c00ba8bc7  861eff4711a542e4b93843c6dd7febb0   \n",
      "1      18955e83d337fd6b2def6b18a428ac77  290c77bc529b7ac935b93aa66c333dc3   \n",
      "2      4e7b3e00288586ebd08712fdd0374a03  060e732b5b29e8181a18229c7b0b2b5e   \n",
      "3      b2b6027bc5c5109e529d4dc6358b12c3  259dac757896d24d7702b9acbbff3f3c   \n",
      "4      4f2d8ab171c80ec8364f7c12e35b23ad  345ecd01c38d18a9036ed96c73b8d066   \n",
      "...                                 ...                               ...   \n",
      "99436  17ddf5dd5d51696bb3d7c6291687be6f  1a29b476fee25c95fbafc67c5ac95cf8   \n",
      "99437  e7b71a9017aa05c9a7fd292d714858e8  d52a67c98be1cf6a5c84435bd38d095d   \n",
      "99438  5e28dfe12db7fb50a4b2f691faecea5e  e9f50caf99f032f0bf3c55141f019d99   \n",
      "99439  56b18e2166679b8a959d72dd06da27f9  73c2643a0a458b49f58cea58833b192e   \n",
      "99440  274fa6071e5e17fe303b9748641082c8  84732c5050c01db9b23e19ba39899398   \n",
      "\n",
      "               customer_city customer_state  \n",
      "0                     franca             SP  \n",
      "1      sao bernardo do campo             SP  \n",
      "2                  sao paulo             SP  \n",
      "3            mogi das cruzes             SP  \n",
      "4                   campinas             SP  \n",
      "...                      ...            ...  \n",
      "99436              sao paulo             SP  \n",
      "99437        taboao da serra             SP  \n",
      "99438              fortaleza             CE  \n",
      "99439                 canoas             RS  \n",
      "99440                  cotia             SP  \n",
      "\n",
      "[99441 rows x 4 columns]\n",
      "-----------------------------------------------------------------------\n",
      "        geolocation_city geolocation_state\n",
      "0              sao paulo                SP\n",
      "1              sao paulo                SP\n",
      "2              sao paulo                SP\n",
      "3              sao paulo                SP\n",
      "4              sao paulo                SP\n",
      "...                  ...               ...\n",
      "1000158         tapejara                RS\n",
      "1000159   getulio vargas                RS\n",
      "1000160         tapejara                RS\n",
      "1000161  david canabarro                RS\n",
      "1000162         tapejara                RS\n",
      "\n",
      "[1000163 rows x 2 columns]\n",
      "-----------------------------------------------------------------------\n",
      "                                order_id                        product_id  \\\n",
      "0       00010242fe8c5a6d1ba2dd792cb16214  4244733e06e7ecb4970a6e2683c13e61   \n",
      "1       00018f77f2f0320c557190d7a144bdd3  e5f2d52b802189ee658865ca93d83a8f   \n",
      "2       000229ec398224ef6ca0657da4fc703e  c777355d18b72b67abbeef9df44fd0fd   \n",
      "3       00024acbcdf0a6daa1e931b038114c75  7634da152a4610f1595efa32f14722fc   \n",
      "4       00042b26cf59d7ce69dfabb4e55b4fd9  ac6c3623068f30de03045865e4e10089   \n",
      "...                                  ...                               ...   \n",
      "112645  fffc94f6ce00a00581880bf54a75a037  4aa6014eceb682077f9dc4bffebc05b0   \n",
      "112646  fffcd46ef2263f404302a634eb57f7eb  32e07fd915822b0765e448c4dd74c828   \n",
      "112647  fffce4705a9662cd70adb13d4a31832d  72a30483855e2eafc67aee5dc2560482   \n",
      "112648  fffe18544ffabc95dfada21779c9644f  9c422a519119dcad7575db5af1ba540e   \n",
      "112649  fffe41c64501cc87c801fd61db3f6244  350688d9dc1e75ff97be326363655e01   \n",
      "\n",
      "                               seller_id  \n",
      "0       48436dade18ac8b2bce089ec2a041202  \n",
      "1       dd7ddc04e1b6c2c614352b383efe2d36  \n",
      "2       5b51032eddd242adc84c38acab88f23d  \n",
      "3       9d7a1d34a5052409006425275ba1c2b4  \n",
      "4       df560393f3a51e74553ab94004ba5c87  \n",
      "...                                  ...  \n",
      "112645  b8bc237ba3788b23da09c0f1f3a3288c  \n",
      "112646  f3c38ab652836d21de61fb8314b69182  \n",
      "112647  c3cfdc648177fdbbbb35635a37472c53  \n",
      "112648  2b3e4a2a3ea8e01938cabda2a3e5cc79  \n",
      "112649  f7ccf836d21b2fb1de37564105216cc1  \n",
      "\n",
      "[112650 rows x 3 columns]\n",
      "-----------------------------------------------------------------------\n",
      "                                order_id payment_type\n",
      "0       b81ef226f3fe1789b1e8b2acac839d17  credit_card\n",
      "1       a9810da82917af2d9aefd1278f1dcfa0  credit_card\n",
      "2       25e8ea4e93396b6fa0d3dd708e76c1bd  credit_card\n",
      "3       ba78997921bbcdc1373bb41e913ab953  credit_card\n",
      "4       42fdf880ba16b47b59251dd489d4441a  credit_card\n",
      "...                                  ...          ...\n",
      "103881  0406037ad97740d563a178ecc7a2075c       boleto\n",
      "103882  7b905861d7c825891d6347454ea7863f  credit_card\n",
      "103883  32609bbb3dd69b3c066a6860554a77bf  credit_card\n",
      "103884  b8b61059626efa996a60be9bb9320e10  credit_card\n",
      "103885  28bbae6599b09d39ca406b747b6632b1       boleto\n",
      "\n",
      "[103886 rows x 2 columns]\n",
      "-----------------------------------------------------------------------\n",
      "                               order_id                       customer_id  \\\n",
      "0      e481f51cbdc54678b7cc49136f2d6af7  9ef432eb6251297304e76186b10a928d   \n",
      "1      53cdb2fc8bc7dce0b6741e2150273451  b0830fb4747a6c6d20dea0b8c802d7ef   \n",
      "2      47770eb9100c2d0c44946d9cf07ec65d  41ce2a54c0b03bf3443c3d931a367089   \n",
      "3      949d5b44dbf5de918fe9c16f97b45f8a  f88197465ea7920adcdbec7375364d82   \n",
      "4      ad21c59c0840e6cb83a9ceb5573f8159  8ab97904e6daea8866dbdbc4fb7aad2c   \n",
      "...                                 ...                               ...   \n",
      "99436  9c5dedf39a927c1b2549525ed64a053c  39bd1228ee8140590ac3aca26f2dfe00   \n",
      "99437  63943bddc261676b46f01ca7ac2f7bd8  1fca14ff2861355f6e5f14306ff977a7   \n",
      "99438  83c1379a015df1e13d02aae0204711ab  1aa71eb042121263aafbe80c1b562c9c   \n",
      "99439  11c177c8e97725db2631073c19f07b62  b331b74b18dc79bcdf6532d51e1637c1   \n",
      "99440  66dea50a8b16d9b4dee7af250b4be1a5  edb027a75a1449115f6b43211ae02a24   \n",
      "\n",
      "      order_status  \n",
      "0        delivered  \n",
      "1        delivered  \n",
      "2        delivered  \n",
      "3        delivered  \n",
      "4        delivered  \n",
      "...            ...  \n",
      "99436    delivered  \n",
      "99437    delivered  \n",
      "99438    delivered  \n",
      "99439    delivered  \n",
      "99440    delivered  \n",
      "\n",
      "[99441 rows x 3 columns]\n",
      "-----------------------------------------------------------------------\n",
      "                             product_id              product_category_name\n",
      "0      1e9e8ef04dbcff4541ed26657ea517e5                         perfumaria\n",
      "1      3aa071139cb16b67ca9e5dea641aaa2f                              artes\n",
      "2      96bd76ec8810374ed1b65e291975717f                      esporte_lazer\n",
      "3      cef67bcfe19066a932b7673e239eb23d                              bebes\n",
      "4      9dc1a7de274444849c219cff195d0b71              utilidades_domesticas\n",
      "...                                 ...                                ...\n",
      "32946  a0b7d5a992ccda646f2d34e418fff5a0                   moveis_decoracao\n",
      "32947  bf4538d88321d0fd4412a93c974510e6  construcao_ferramentas_iluminacao\n",
      "32948  9a7c6041fa9592d9d9ef6cfe62a71f8c                    cama_mesa_banho\n",
      "32949  83808703fc0706a22e264b9d75f04a2e             informatica_acessorios\n",
      "32950  106392145fca363410d287a815be6de4                    cama_mesa_banho\n",
      "\n",
      "[32951 rows x 2 columns]\n",
      "-----------------------------------------------------------------------\n",
      "                             seller_id        seller_city seller_state\n",
      "0     3442f8959a84dea7ee197c632cb2df15           campinas           SP\n",
      "1     d1b65fc7debc3361ea86b5f14c68d2e2         mogi guacu           SP\n",
      "2     ce3ad9de960102d0677a81f5d0bb7b2d     rio de janeiro           RJ\n",
      "3     c0f3eea2e14555b6faeea3dd58c1b1c3          sao paulo           SP\n",
      "4     51a04a8a6bdcb23deccc82b0b80742cf  braganca paulista           SP\n",
      "...                                ...                ...          ...\n",
      "3090  98dddbc4601dd4443ca174359b237166            sarandi           PR\n",
      "3091  f8201cab383e484733266d1906e2fdfa            palhoca           SC\n",
      "3092  74871d19219c7d518d0090283e03c137          sao paulo           SP\n",
      "3093  e603cf3fec55f8697c9059638d6c8eb5            pelotas           RS\n",
      "3094  9e25199f6ef7e7c347120ff175652c3b            taubate           SP\n",
      "\n",
      "[3095 rows x 3 columns]\n",
      "-----------------------------------------------------------------------\n",
      "            product_category_name product_category_name_english\n",
      "0                    beleza_saude                 health_beauty\n",
      "1          informatica_acessorios         computers_accessories\n",
      "2                      automotivo                          auto\n",
      "3                 cama_mesa_banho                bed_bath_table\n",
      "4                moveis_decoracao               furniture_decor\n",
      "..                            ...                           ...\n",
      "66                         flores                       flowers\n",
      "67             artes_e_artesanato         arts_and_craftmanship\n",
      "68                fraldas_higiene           diapers_and_hygiene\n",
      "69  fashion_roupa_infanto_juvenil     fashion_childrens_clothes\n",
      "70             seguros_e_servicos         security_and_services\n",
      "\n",
      "[71 rows x 2 columns]\n",
      "-----------------------------------------------------------------------\n",
      "                              review_id                          order_id  \\\n",
      "0      7bc2406110b926393aa56f80a40eba40  73fc7af87114b39712e6da79b0a377eb   \n",
      "1      80e641a11e56f04c1ad469d5645fdfde  a548910a1c6147796b98fdf73dbeba33   \n",
      "2      228ce5500dc1d8e020d8d1322874b6f0  f9e4b658b201a9f2ecdecbb34bed034b   \n",
      "3      e64fb393e7b32834bb789ff8bb30750e  658677c97b385a9be170737859d3511b   \n",
      "4      f7c4243c7fe1938f181bec41a392bdeb  8e6bfb81e283fa7e4f11123a3fb894f1   \n",
      "...                                 ...                               ...   \n",
      "99995  f3897127253a9592a73be9bdfdf4ed7a  22ec9f0669f784db00fa86d035cf8602   \n",
      "99996  b3de70c89b1510c4cd3d0649fd302472  55d4004744368f5571d1f590031933e4   \n",
      "99997  1adeb9d84d72fe4e337617733eb85149  7725825d039fc1f0ceb7635e3f7d9206   \n",
      "99998  be360f18f5df1e0541061c87021e6d93  f8bd3f2000c28c5342fedeb5e50f2e75   \n",
      "99999  efe49f1d6f951dd88b51e6ccd4cc548f  90531360ecb1eec2a1fbb265a0db0508   \n",
      "\n",
      "      review_comment_title                             review_comment_message  \n",
      "0                      NaN                                                NaN  \n",
      "1                      NaN                                                NaN  \n",
      "2                      NaN                                                NaN  \n",
      "3                      NaN       received it well before the stipulated time.  \n",
      "4                      NaN  Congratulations Lannister stores I loved shopp...  \n",
      "...                    ...                                                ...  \n",
      "99995                  NaN                                                NaN  \n",
      "99996                  NaN  Excellent backpack, super fast delivery. I hig...  \n",
      "99997                  NaN                                                NaN  \n",
      "99998                  NaN  I ordered the purchase of a Celtic/Prism/Meriv...  \n",
      "99999                  NaN  my product arrived and I already have to retur...  \n",
      "\n",
      "[100000 rows x 4 columns]\n"
     ]
    }
   ],
   "source": [
    "print(customers.select_dtypes(include=['object'])) \n",
    "print(\"-----------------------------------------------------------------------\")\n",
    "print(geolocation.select_dtypes(include=['object']))\n",
    "print(\"-----------------------------------------------------------------------\")\n",
    "print(order_items.select_dtypes(include=['object']))\n",
    "print(\"-----------------------------------------------------------------------\")\n",
    "print(order_payments.select_dtypes(include=['object']))\n",
    "print(\"-----------------------------------------------------------------------\")\n",
    "print(orders.select_dtypes(include=['object']))\n",
    "print(\"-----------------------------------------------------------------------\")\n",
    "print(products.select_dtypes(include=['object']))\n",
    "print(\"-----------------------------------------------------------------------\")\n",
    "print(sellers.select_dtypes(include=['object']))\n",
    "print(\"-----------------------------------------------------------------------\")\n",
    "print(product_category_name_translation.select_dtypes(include=['object']))\n",
    "print(\"-----------------------------------------------------------------------\")\n",
    "print(order_review.select_dtypes(include=['object']))"
   ]
  },
  {
   "cell_type": "markdown",
   "id": "32770afc-2ddf-4263-8898-42b100b0c56e",
   "metadata": {},
   "source": [
    "\n",
    "Check if feature scaling is needed:\n"
   ]
  },
  {
   "cell_type": "code",
   "execution_count": 23,
   "id": "c04bcad2-af83-4daf-9f87-ab40782a51ef",
   "metadata": {
    "tags": []
   },
   "outputs": [
    {
     "data": {
      "text/html": [
       "<div>\n",
       "<style scoped>\n",
       "    .dataframe tbody tr th:only-of-type {\n",
       "        vertical-align: middle;\n",
       "    }\n",
       "\n",
       "    .dataframe tbody tr th {\n",
       "        vertical-align: top;\n",
       "    }\n",
       "\n",
       "    .dataframe thead th {\n",
       "        text-align: right;\n",
       "    }\n",
       "</style>\n",
       "<table border=\"1\" class=\"dataframe\">\n",
       "  <thead>\n",
       "    <tr style=\"text-align: right;\">\n",
       "      <th></th>\n",
       "      <th>customer_zip_code_prefix</th>\n",
       "    </tr>\n",
       "  </thead>\n",
       "  <tbody>\n",
       "    <tr>\n",
       "      <th>count</th>\n",
       "      <td>99441.000000</td>\n",
       "    </tr>\n",
       "    <tr>\n",
       "      <th>mean</th>\n",
       "      <td>35137.474583</td>\n",
       "    </tr>\n",
       "    <tr>\n",
       "      <th>std</th>\n",
       "      <td>29797.938996</td>\n",
       "    </tr>\n",
       "    <tr>\n",
       "      <th>min</th>\n",
       "      <td>1003.000000</td>\n",
       "    </tr>\n",
       "    <tr>\n",
       "      <th>25%</th>\n",
       "      <td>11347.000000</td>\n",
       "    </tr>\n",
       "    <tr>\n",
       "      <th>50%</th>\n",
       "      <td>24416.000000</td>\n",
       "    </tr>\n",
       "    <tr>\n",
       "      <th>75%</th>\n",
       "      <td>58900.000000</td>\n",
       "    </tr>\n",
       "    <tr>\n",
       "      <th>max</th>\n",
       "      <td>99990.000000</td>\n",
       "    </tr>\n",
       "  </tbody>\n",
       "</table>\n",
       "</div>"
      ],
      "text/plain": [
       "       customer_zip_code_prefix\n",
       "count              99441.000000\n",
       "mean               35137.474583\n",
       "std                29797.938996\n",
       "min                 1003.000000\n",
       "25%                11347.000000\n",
       "50%                24416.000000\n",
       "75%                58900.000000\n",
       "max                99990.000000"
      ]
     },
     "execution_count": 23,
     "metadata": {},
     "output_type": "execute_result"
    }
   ],
   "source": [
    "customers.describe()"
   ]
  },
  {
   "cell_type": "code",
   "execution_count": 24,
   "id": "d827c0e9-4167-4671-9ae2-fc53e13a4750",
   "metadata": {
    "tags": []
   },
   "outputs": [
    {
     "data": {
      "text/html": [
       "<div>\n",
       "<style scoped>\n",
       "    .dataframe tbody tr th:only-of-type {\n",
       "        vertical-align: middle;\n",
       "    }\n",
       "\n",
       "    .dataframe tbody tr th {\n",
       "        vertical-align: top;\n",
       "    }\n",
       "\n",
       "    .dataframe thead th {\n",
       "        text-align: right;\n",
       "    }\n",
       "</style>\n",
       "<table border=\"1\" class=\"dataframe\">\n",
       "  <thead>\n",
       "    <tr style=\"text-align: right;\">\n",
       "      <th></th>\n",
       "      <th>geolocation_zip_code_prefix</th>\n",
       "      <th>geolocation_lat</th>\n",
       "      <th>geolocation_lng</th>\n",
       "    </tr>\n",
       "  </thead>\n",
       "  <tbody>\n",
       "    <tr>\n",
       "      <th>count</th>\n",
       "      <td>1.000163e+06</td>\n",
       "      <td>1.000163e+06</td>\n",
       "      <td>1.000163e+06</td>\n",
       "    </tr>\n",
       "    <tr>\n",
       "      <th>mean</th>\n",
       "      <td>3.657417e+04</td>\n",
       "      <td>-2.117615e+01</td>\n",
       "      <td>-4.639054e+01</td>\n",
       "    </tr>\n",
       "    <tr>\n",
       "      <th>std</th>\n",
       "      <td>3.054934e+04</td>\n",
       "      <td>5.715866e+00</td>\n",
       "      <td>4.269748e+00</td>\n",
       "    </tr>\n",
       "    <tr>\n",
       "      <th>min</th>\n",
       "      <td>1.001000e+03</td>\n",
       "      <td>-3.660537e+01</td>\n",
       "      <td>-1.014668e+02</td>\n",
       "    </tr>\n",
       "    <tr>\n",
       "      <th>25%</th>\n",
       "      <td>1.107500e+04</td>\n",
       "      <td>-2.360355e+01</td>\n",
       "      <td>-4.857317e+01</td>\n",
       "    </tr>\n",
       "    <tr>\n",
       "      <th>50%</th>\n",
       "      <td>2.653000e+04</td>\n",
       "      <td>-2.291938e+01</td>\n",
       "      <td>-4.663788e+01</td>\n",
       "    </tr>\n",
       "    <tr>\n",
       "      <th>75%</th>\n",
       "      <td>6.350400e+04</td>\n",
       "      <td>-1.997962e+01</td>\n",
       "      <td>-4.376771e+01</td>\n",
       "    </tr>\n",
       "    <tr>\n",
       "      <th>max</th>\n",
       "      <td>9.999000e+04</td>\n",
       "      <td>4.506593e+01</td>\n",
       "      <td>1.211054e+02</td>\n",
       "    </tr>\n",
       "  </tbody>\n",
       "</table>\n",
       "</div>"
      ],
      "text/plain": [
       "       geolocation_zip_code_prefix  geolocation_lat  geolocation_lng\n",
       "count                 1.000163e+06     1.000163e+06     1.000163e+06\n",
       "mean                  3.657417e+04    -2.117615e+01    -4.639054e+01\n",
       "std                   3.054934e+04     5.715866e+00     4.269748e+00\n",
       "min                   1.001000e+03    -3.660537e+01    -1.014668e+02\n",
       "25%                   1.107500e+04    -2.360355e+01    -4.857317e+01\n",
       "50%                   2.653000e+04    -2.291938e+01    -4.663788e+01\n",
       "75%                   6.350400e+04    -1.997962e+01    -4.376771e+01\n",
       "max                   9.999000e+04     4.506593e+01     1.211054e+02"
      ]
     },
     "execution_count": 24,
     "metadata": {},
     "output_type": "execute_result"
    }
   ],
   "source": [
    "geolocation.describe()"
   ]
  },
  {
   "cell_type": "code",
   "execution_count": 25,
   "id": "d97b14c1-2aaa-4f91-8103-9b3bc6cc01a3",
   "metadata": {
    "tags": []
   },
   "outputs": [
    {
     "data": {
      "text/html": [
       "<div>\n",
       "<style scoped>\n",
       "    .dataframe tbody tr th:only-of-type {\n",
       "        vertical-align: middle;\n",
       "    }\n",
       "\n",
       "    .dataframe tbody tr th {\n",
       "        vertical-align: top;\n",
       "    }\n",
       "\n",
       "    .dataframe thead th {\n",
       "        text-align: right;\n",
       "    }\n",
       "</style>\n",
       "<table border=\"1\" class=\"dataframe\">\n",
       "  <thead>\n",
       "    <tr style=\"text-align: right;\">\n",
       "      <th></th>\n",
       "      <th>order_item_id</th>\n",
       "      <th>price</th>\n",
       "      <th>freight_value</th>\n",
       "    </tr>\n",
       "  </thead>\n",
       "  <tbody>\n",
       "    <tr>\n",
       "      <th>count</th>\n",
       "      <td>112650.000000</td>\n",
       "      <td>112650.000000</td>\n",
       "      <td>112650.000000</td>\n",
       "    </tr>\n",
       "    <tr>\n",
       "      <th>mean</th>\n",
       "      <td>1.197834</td>\n",
       "      <td>120.653739</td>\n",
       "      <td>19.990320</td>\n",
       "    </tr>\n",
       "    <tr>\n",
       "      <th>std</th>\n",
       "      <td>0.705124</td>\n",
       "      <td>183.633928</td>\n",
       "      <td>15.806405</td>\n",
       "    </tr>\n",
       "    <tr>\n",
       "      <th>min</th>\n",
       "      <td>1.000000</td>\n",
       "      <td>0.850000</td>\n",
       "      <td>0.000000</td>\n",
       "    </tr>\n",
       "    <tr>\n",
       "      <th>25%</th>\n",
       "      <td>1.000000</td>\n",
       "      <td>39.900000</td>\n",
       "      <td>13.080000</td>\n",
       "    </tr>\n",
       "    <tr>\n",
       "      <th>50%</th>\n",
       "      <td>1.000000</td>\n",
       "      <td>74.990000</td>\n",
       "      <td>16.260000</td>\n",
       "    </tr>\n",
       "    <tr>\n",
       "      <th>75%</th>\n",
       "      <td>1.000000</td>\n",
       "      <td>134.900000</td>\n",
       "      <td>21.150000</td>\n",
       "    </tr>\n",
       "    <tr>\n",
       "      <th>max</th>\n",
       "      <td>21.000000</td>\n",
       "      <td>6735.000000</td>\n",
       "      <td>409.680000</td>\n",
       "    </tr>\n",
       "  </tbody>\n",
       "</table>\n",
       "</div>"
      ],
      "text/plain": [
       "       order_item_id          price  freight_value\n",
       "count  112650.000000  112650.000000  112650.000000\n",
       "mean        1.197834     120.653739      19.990320\n",
       "std         0.705124     183.633928      15.806405\n",
       "min         1.000000       0.850000       0.000000\n",
       "25%         1.000000      39.900000      13.080000\n",
       "50%         1.000000      74.990000      16.260000\n",
       "75%         1.000000     134.900000      21.150000\n",
       "max        21.000000    6735.000000     409.680000"
      ]
     },
     "execution_count": 25,
     "metadata": {},
     "output_type": "execute_result"
    }
   ],
   "source": [
    "order_items.describe()"
   ]
  },
  {
   "cell_type": "code",
   "execution_count": 26,
   "id": "ee4b950b-ddfc-432e-93a5-eaae99f02126",
   "metadata": {
    "tags": []
   },
   "outputs": [
    {
     "data": {
      "text/html": [
       "<div>\n",
       "<style scoped>\n",
       "    .dataframe tbody tr th:only-of-type {\n",
       "        vertical-align: middle;\n",
       "    }\n",
       "\n",
       "    .dataframe tbody tr th {\n",
       "        vertical-align: top;\n",
       "    }\n",
       "\n",
       "    .dataframe thead th {\n",
       "        text-align: right;\n",
       "    }\n",
       "</style>\n",
       "<table border=\"1\" class=\"dataframe\">\n",
       "  <thead>\n",
       "    <tr style=\"text-align: right;\">\n",
       "      <th></th>\n",
       "      <th>payment_sequential</th>\n",
       "      <th>payment_installments</th>\n",
       "      <th>payment_value</th>\n",
       "    </tr>\n",
       "  </thead>\n",
       "  <tbody>\n",
       "    <tr>\n",
       "      <th>count</th>\n",
       "      <td>103886.000000</td>\n",
       "      <td>103886.000000</td>\n",
       "      <td>103886.000000</td>\n",
       "    </tr>\n",
       "    <tr>\n",
       "      <th>mean</th>\n",
       "      <td>1.092679</td>\n",
       "      <td>2.853349</td>\n",
       "      <td>154.100380</td>\n",
       "    </tr>\n",
       "    <tr>\n",
       "      <th>std</th>\n",
       "      <td>0.706584</td>\n",
       "      <td>2.687051</td>\n",
       "      <td>217.494064</td>\n",
       "    </tr>\n",
       "    <tr>\n",
       "      <th>min</th>\n",
       "      <td>1.000000</td>\n",
       "      <td>0.000000</td>\n",
       "      <td>0.000000</td>\n",
       "    </tr>\n",
       "    <tr>\n",
       "      <th>25%</th>\n",
       "      <td>1.000000</td>\n",
       "      <td>1.000000</td>\n",
       "      <td>56.790000</td>\n",
       "    </tr>\n",
       "    <tr>\n",
       "      <th>50%</th>\n",
       "      <td>1.000000</td>\n",
       "      <td>1.000000</td>\n",
       "      <td>100.000000</td>\n",
       "    </tr>\n",
       "    <tr>\n",
       "      <th>75%</th>\n",
       "      <td>1.000000</td>\n",
       "      <td>4.000000</td>\n",
       "      <td>171.837500</td>\n",
       "    </tr>\n",
       "    <tr>\n",
       "      <th>max</th>\n",
       "      <td>29.000000</td>\n",
       "      <td>24.000000</td>\n",
       "      <td>13664.080000</td>\n",
       "    </tr>\n",
       "  </tbody>\n",
       "</table>\n",
       "</div>"
      ],
      "text/plain": [
       "       payment_sequential  payment_installments  payment_value\n",
       "count       103886.000000         103886.000000  103886.000000\n",
       "mean             1.092679              2.853349     154.100380\n",
       "std              0.706584              2.687051     217.494064\n",
       "min              1.000000              0.000000       0.000000\n",
       "25%              1.000000              1.000000      56.790000\n",
       "50%              1.000000              1.000000     100.000000\n",
       "75%              1.000000              4.000000     171.837500\n",
       "max             29.000000             24.000000   13664.080000"
      ]
     },
     "execution_count": 26,
     "metadata": {},
     "output_type": "execute_result"
    }
   ],
   "source": [
    "order_payments.describe()"
   ]
  },
  {
   "cell_type": "code",
   "execution_count": 27,
   "id": "18ba2cef-2496-49fd-8e76-148461b1d6f5",
   "metadata": {
    "tags": []
   },
   "outputs": [
    {
     "data": {
      "text/html": [
       "<div>\n",
       "<style scoped>\n",
       "    .dataframe tbody tr th:only-of-type {\n",
       "        vertical-align: middle;\n",
       "    }\n",
       "\n",
       "    .dataframe tbody tr th {\n",
       "        vertical-align: top;\n",
       "    }\n",
       "\n",
       "    .dataframe thead th {\n",
       "        text-align: right;\n",
       "    }\n",
       "</style>\n",
       "<table border=\"1\" class=\"dataframe\">\n",
       "  <thead>\n",
       "    <tr style=\"text-align: right;\">\n",
       "      <th></th>\n",
       "      <th>review_score</th>\n",
       "    </tr>\n",
       "  </thead>\n",
       "  <tbody>\n",
       "    <tr>\n",
       "      <th>count</th>\n",
       "      <td>100000.000000</td>\n",
       "    </tr>\n",
       "    <tr>\n",
       "      <th>mean</th>\n",
       "      <td>4.070890</td>\n",
       "    </tr>\n",
       "    <tr>\n",
       "      <th>std</th>\n",
       "      <td>1.359663</td>\n",
       "    </tr>\n",
       "    <tr>\n",
       "      <th>min</th>\n",
       "      <td>1.000000</td>\n",
       "    </tr>\n",
       "    <tr>\n",
       "      <th>25%</th>\n",
       "      <td>4.000000</td>\n",
       "    </tr>\n",
       "    <tr>\n",
       "      <th>50%</th>\n",
       "      <td>5.000000</td>\n",
       "    </tr>\n",
       "    <tr>\n",
       "      <th>75%</th>\n",
       "      <td>5.000000</td>\n",
       "    </tr>\n",
       "    <tr>\n",
       "      <th>max</th>\n",
       "      <td>5.000000</td>\n",
       "    </tr>\n",
       "  </tbody>\n",
       "</table>\n",
       "</div>"
      ],
      "text/plain": [
       "        review_score\n",
       "count  100000.000000\n",
       "mean        4.070890\n",
       "std         1.359663\n",
       "min         1.000000\n",
       "25%         4.000000\n",
       "50%         5.000000\n",
       "75%         5.000000\n",
       "max         5.000000"
      ]
     },
     "execution_count": 27,
     "metadata": {},
     "output_type": "execute_result"
    }
   ],
   "source": [
    "order_review.describe()"
   ]
  },
  {
   "cell_type": "code",
   "execution_count": 28,
   "id": "1f6c8f31-9586-49e0-9ab2-5720e8b83837",
   "metadata": {
    "tags": []
   },
   "outputs": [
    {
     "name": "stderr",
     "output_type": "stream",
     "text": [
      "/var/folders/4v/p7hcg9cj6gvb6jystscwqsnc0000gn/T/ipykernel_67793/3333036027.py:1: FutureWarning: Treating datetime data as categorical rather than numeric in `.describe` is deprecated and will be removed in a future version of pandas. Specify `datetime_is_numeric=True` to silence this warning and adopt the future behavior now.\n",
      "  orders.describe()\n",
      "/var/folders/4v/p7hcg9cj6gvb6jystscwqsnc0000gn/T/ipykernel_67793/3333036027.py:1: FutureWarning: Treating datetime data as categorical rather than numeric in `.describe` is deprecated and will be removed in a future version of pandas. Specify `datetime_is_numeric=True` to silence this warning and adopt the future behavior now.\n",
      "  orders.describe()\n",
      "/var/folders/4v/p7hcg9cj6gvb6jystscwqsnc0000gn/T/ipykernel_67793/3333036027.py:1: FutureWarning: Treating datetime data as categorical rather than numeric in `.describe` is deprecated and will be removed in a future version of pandas. Specify `datetime_is_numeric=True` to silence this warning and adopt the future behavior now.\n",
      "  orders.describe()\n",
      "/var/folders/4v/p7hcg9cj6gvb6jystscwqsnc0000gn/T/ipykernel_67793/3333036027.py:1: FutureWarning: Treating datetime data as categorical rather than numeric in `.describe` is deprecated and will be removed in a future version of pandas. Specify `datetime_is_numeric=True` to silence this warning and adopt the future behavior now.\n",
      "  orders.describe()\n",
      "/var/folders/4v/p7hcg9cj6gvb6jystscwqsnc0000gn/T/ipykernel_67793/3333036027.py:1: FutureWarning: Treating datetime data as categorical rather than numeric in `.describe` is deprecated and will be removed in a future version of pandas. Specify `datetime_is_numeric=True` to silence this warning and adopt the future behavior now.\n",
      "  orders.describe()\n"
     ]
    },
    {
     "data": {
      "text/html": [
       "<div>\n",
       "<style scoped>\n",
       "    .dataframe tbody tr th:only-of-type {\n",
       "        vertical-align: middle;\n",
       "    }\n",
       "\n",
       "    .dataframe tbody tr th {\n",
       "        vertical-align: top;\n",
       "    }\n",
       "\n",
       "    .dataframe thead th {\n",
       "        text-align: right;\n",
       "    }\n",
       "</style>\n",
       "<table border=\"1\" class=\"dataframe\">\n",
       "  <thead>\n",
       "    <tr style=\"text-align: right;\">\n",
       "      <th></th>\n",
       "      <th>order_id</th>\n",
       "      <th>customer_id</th>\n",
       "      <th>order_status</th>\n",
       "      <th>order_purchase_timestamp</th>\n",
       "      <th>order_approved_at</th>\n",
       "      <th>order_delivered_carrier_date</th>\n",
       "      <th>order_delivered_customer_date</th>\n",
       "      <th>order_estimated_delivery_date</th>\n",
       "    </tr>\n",
       "  </thead>\n",
       "  <tbody>\n",
       "    <tr>\n",
       "      <th>count</th>\n",
       "      <td>99441</td>\n",
       "      <td>99441</td>\n",
       "      <td>99441</td>\n",
       "      <td>99441</td>\n",
       "      <td>99281</td>\n",
       "      <td>97658</td>\n",
       "      <td>96476</td>\n",
       "      <td>99441</td>\n",
       "    </tr>\n",
       "    <tr>\n",
       "      <th>unique</th>\n",
       "      <td>99441</td>\n",
       "      <td>99441</td>\n",
       "      <td>8</td>\n",
       "      <td>98875</td>\n",
       "      <td>90733</td>\n",
       "      <td>81018</td>\n",
       "      <td>95664</td>\n",
       "      <td>459</td>\n",
       "    </tr>\n",
       "    <tr>\n",
       "      <th>top</th>\n",
       "      <td>e481f51cbdc54678b7cc49136f2d6af7</td>\n",
       "      <td>9ef432eb6251297304e76186b10a928d</td>\n",
       "      <td>delivered</td>\n",
       "      <td>2018-04-11 10:48:14</td>\n",
       "      <td>2018-02-27 04:31:10</td>\n",
       "      <td>2018-05-09 15:48:00</td>\n",
       "      <td>2018-05-08 23:38:46</td>\n",
       "      <td>2017-12-20 00:00:00</td>\n",
       "    </tr>\n",
       "    <tr>\n",
       "      <th>freq</th>\n",
       "      <td>1</td>\n",
       "      <td>1</td>\n",
       "      <td>96478</td>\n",
       "      <td>3</td>\n",
       "      <td>9</td>\n",
       "      <td>47</td>\n",
       "      <td>3</td>\n",
       "      <td>522</td>\n",
       "    </tr>\n",
       "    <tr>\n",
       "      <th>first</th>\n",
       "      <td>NaN</td>\n",
       "      <td>NaN</td>\n",
       "      <td>NaN</td>\n",
       "      <td>2016-09-04 21:15:19</td>\n",
       "      <td>2016-09-15 12:16:38</td>\n",
       "      <td>2016-10-08 10:34:01</td>\n",
       "      <td>2016-10-11 13:46:32</td>\n",
       "      <td>2016-09-30 00:00:00</td>\n",
       "    </tr>\n",
       "    <tr>\n",
       "      <th>last</th>\n",
       "      <td>NaN</td>\n",
       "      <td>NaN</td>\n",
       "      <td>NaN</td>\n",
       "      <td>2018-10-17 17:30:18</td>\n",
       "      <td>2018-09-03 17:40:06</td>\n",
       "      <td>2018-09-11 19:48:28</td>\n",
       "      <td>2018-10-17 13:22:46</td>\n",
       "      <td>2018-11-12 00:00:00</td>\n",
       "    </tr>\n",
       "  </tbody>\n",
       "</table>\n",
       "</div>"
      ],
      "text/plain": [
       "                                order_id                       customer_id  \\\n",
       "count                              99441                             99441   \n",
       "unique                             99441                             99441   \n",
       "top     e481f51cbdc54678b7cc49136f2d6af7  9ef432eb6251297304e76186b10a928d   \n",
       "freq                                   1                                 1   \n",
       "first                                NaN                               NaN   \n",
       "last                                 NaN                               NaN   \n",
       "\n",
       "       order_status order_purchase_timestamp    order_approved_at  \\\n",
       "count         99441                    99441                99281   \n",
       "unique            8                    98875                90733   \n",
       "top       delivered      2018-04-11 10:48:14  2018-02-27 04:31:10   \n",
       "freq          96478                        3                    9   \n",
       "first           NaN      2016-09-04 21:15:19  2016-09-15 12:16:38   \n",
       "last            NaN      2018-10-17 17:30:18  2018-09-03 17:40:06   \n",
       "\n",
       "       order_delivered_carrier_date order_delivered_customer_date  \\\n",
       "count                         97658                         96476   \n",
       "unique                        81018                         95664   \n",
       "top             2018-05-09 15:48:00           2018-05-08 23:38:46   \n",
       "freq                             47                             3   \n",
       "first           2016-10-08 10:34:01           2016-10-11 13:46:32   \n",
       "last            2018-09-11 19:48:28           2018-10-17 13:22:46   \n",
       "\n",
       "       order_estimated_delivery_date  \n",
       "count                          99441  \n",
       "unique                           459  \n",
       "top              2017-12-20 00:00:00  \n",
       "freq                             522  \n",
       "first            2016-09-30 00:00:00  \n",
       "last             2018-11-12 00:00:00  "
      ]
     },
     "execution_count": 28,
     "metadata": {},
     "output_type": "execute_result"
    }
   ],
   "source": [
    "orders.describe()"
   ]
  },
  {
   "cell_type": "code",
   "execution_count": 29,
   "id": "4aaf6a77-6859-43f6-bd2c-0fc59d40f4eb",
   "metadata": {
    "tags": []
   },
   "outputs": [
    {
     "data": {
      "text/html": [
       "<div>\n",
       "<style scoped>\n",
       "    .dataframe tbody tr th:only-of-type {\n",
       "        vertical-align: middle;\n",
       "    }\n",
       "\n",
       "    .dataframe tbody tr th {\n",
       "        vertical-align: top;\n",
       "    }\n",
       "\n",
       "    .dataframe thead th {\n",
       "        text-align: right;\n",
       "    }\n",
       "</style>\n",
       "<table border=\"1\" class=\"dataframe\">\n",
       "  <thead>\n",
       "    <tr style=\"text-align: right;\">\n",
       "      <th></th>\n",
       "      <th>product_name_lenght</th>\n",
       "      <th>product_description_lenght</th>\n",
       "      <th>product_photos_qty</th>\n",
       "      <th>product_weight_g</th>\n",
       "      <th>product_length_cm</th>\n",
       "      <th>product_height_cm</th>\n",
       "      <th>product_width_cm</th>\n",
       "    </tr>\n",
       "  </thead>\n",
       "  <tbody>\n",
       "    <tr>\n",
       "      <th>count</th>\n",
       "      <td>32341.000000</td>\n",
       "      <td>32341.000000</td>\n",
       "      <td>32341.000000</td>\n",
       "      <td>32949.000000</td>\n",
       "      <td>32949.000000</td>\n",
       "      <td>32949.000000</td>\n",
       "      <td>32949.000000</td>\n",
       "    </tr>\n",
       "    <tr>\n",
       "      <th>mean</th>\n",
       "      <td>48.476949</td>\n",
       "      <td>771.495285</td>\n",
       "      <td>2.188986</td>\n",
       "      <td>2276.472488</td>\n",
       "      <td>30.815078</td>\n",
       "      <td>16.937661</td>\n",
       "      <td>23.196728</td>\n",
       "    </tr>\n",
       "    <tr>\n",
       "      <th>std</th>\n",
       "      <td>10.245741</td>\n",
       "      <td>635.115225</td>\n",
       "      <td>1.736766</td>\n",
       "      <td>4282.038731</td>\n",
       "      <td>16.914458</td>\n",
       "      <td>13.637554</td>\n",
       "      <td>12.079047</td>\n",
       "    </tr>\n",
       "    <tr>\n",
       "      <th>min</th>\n",
       "      <td>5.000000</td>\n",
       "      <td>4.000000</td>\n",
       "      <td>1.000000</td>\n",
       "      <td>0.000000</td>\n",
       "      <td>7.000000</td>\n",
       "      <td>2.000000</td>\n",
       "      <td>6.000000</td>\n",
       "    </tr>\n",
       "    <tr>\n",
       "      <th>25%</th>\n",
       "      <td>42.000000</td>\n",
       "      <td>339.000000</td>\n",
       "      <td>1.000000</td>\n",
       "      <td>300.000000</td>\n",
       "      <td>18.000000</td>\n",
       "      <td>8.000000</td>\n",
       "      <td>15.000000</td>\n",
       "    </tr>\n",
       "    <tr>\n",
       "      <th>50%</th>\n",
       "      <td>51.000000</td>\n",
       "      <td>595.000000</td>\n",
       "      <td>1.000000</td>\n",
       "      <td>700.000000</td>\n",
       "      <td>25.000000</td>\n",
       "      <td>13.000000</td>\n",
       "      <td>20.000000</td>\n",
       "    </tr>\n",
       "    <tr>\n",
       "      <th>75%</th>\n",
       "      <td>57.000000</td>\n",
       "      <td>972.000000</td>\n",
       "      <td>3.000000</td>\n",
       "      <td>1900.000000</td>\n",
       "      <td>38.000000</td>\n",
       "      <td>21.000000</td>\n",
       "      <td>30.000000</td>\n",
       "    </tr>\n",
       "    <tr>\n",
       "      <th>max</th>\n",
       "      <td>76.000000</td>\n",
       "      <td>3992.000000</td>\n",
       "      <td>20.000000</td>\n",
       "      <td>40425.000000</td>\n",
       "      <td>105.000000</td>\n",
       "      <td>105.000000</td>\n",
       "      <td>118.000000</td>\n",
       "    </tr>\n",
       "  </tbody>\n",
       "</table>\n",
       "</div>"
      ],
      "text/plain": [
       "       product_name_lenght  product_description_lenght  product_photos_qty  \\\n",
       "count         32341.000000                32341.000000        32341.000000   \n",
       "mean             48.476949                  771.495285            2.188986   \n",
       "std              10.245741                  635.115225            1.736766   \n",
       "min               5.000000                    4.000000            1.000000   \n",
       "25%              42.000000                  339.000000            1.000000   \n",
       "50%              51.000000                  595.000000            1.000000   \n",
       "75%              57.000000                  972.000000            3.000000   \n",
       "max              76.000000                 3992.000000           20.000000   \n",
       "\n",
       "       product_weight_g  product_length_cm  product_height_cm  \\\n",
       "count      32949.000000       32949.000000       32949.000000   \n",
       "mean        2276.472488          30.815078          16.937661   \n",
       "std         4282.038731          16.914458          13.637554   \n",
       "min            0.000000           7.000000           2.000000   \n",
       "25%          300.000000          18.000000           8.000000   \n",
       "50%          700.000000          25.000000          13.000000   \n",
       "75%         1900.000000          38.000000          21.000000   \n",
       "max        40425.000000         105.000000         105.000000   \n",
       "\n",
       "       product_width_cm  \n",
       "count      32949.000000  \n",
       "mean          23.196728  \n",
       "std           12.079047  \n",
       "min            6.000000  \n",
       "25%           15.000000  \n",
       "50%           20.000000  \n",
       "75%           30.000000  \n",
       "max          118.000000  "
      ]
     },
     "execution_count": 29,
     "metadata": {},
     "output_type": "execute_result"
    }
   ],
   "source": [
    "products.describe() "
   ]
  },
  {
   "cell_type": "code",
   "execution_count": 30,
   "id": "241a080e-c436-4778-957d-dfb9ce74b543",
   "metadata": {
    "tags": []
   },
   "outputs": [
    {
     "data": {
      "text/html": [
       "<div>\n",
       "<style scoped>\n",
       "    .dataframe tbody tr th:only-of-type {\n",
       "        vertical-align: middle;\n",
       "    }\n",
       "\n",
       "    .dataframe tbody tr th {\n",
       "        vertical-align: top;\n",
       "    }\n",
       "\n",
       "    .dataframe thead th {\n",
       "        text-align: right;\n",
       "    }\n",
       "</style>\n",
       "<table border=\"1\" class=\"dataframe\">\n",
       "  <thead>\n",
       "    <tr style=\"text-align: right;\">\n",
       "      <th></th>\n",
       "      <th>seller_zip_code_prefix</th>\n",
       "    </tr>\n",
       "  </thead>\n",
       "  <tbody>\n",
       "    <tr>\n",
       "      <th>count</th>\n",
       "      <td>3095.000000</td>\n",
       "    </tr>\n",
       "    <tr>\n",
       "      <th>mean</th>\n",
       "      <td>32291.059451</td>\n",
       "    </tr>\n",
       "    <tr>\n",
       "      <th>std</th>\n",
       "      <td>32713.453830</td>\n",
       "    </tr>\n",
       "    <tr>\n",
       "      <th>min</th>\n",
       "      <td>1001.000000</td>\n",
       "    </tr>\n",
       "    <tr>\n",
       "      <th>25%</th>\n",
       "      <td>7093.500000</td>\n",
       "    </tr>\n",
       "    <tr>\n",
       "      <th>50%</th>\n",
       "      <td>14940.000000</td>\n",
       "    </tr>\n",
       "    <tr>\n",
       "      <th>75%</th>\n",
       "      <td>64552.500000</td>\n",
       "    </tr>\n",
       "    <tr>\n",
       "      <th>max</th>\n",
       "      <td>99730.000000</td>\n",
       "    </tr>\n",
       "  </tbody>\n",
       "</table>\n",
       "</div>"
      ],
      "text/plain": [
       "       seller_zip_code_prefix\n",
       "count             3095.000000\n",
       "mean             32291.059451\n",
       "std              32713.453830\n",
       "min               1001.000000\n",
       "25%               7093.500000\n",
       "50%              14940.000000\n",
       "75%              64552.500000\n",
       "max              99730.000000"
      ]
     },
     "execution_count": 30,
     "metadata": {},
     "output_type": "execute_result"
    }
   ],
   "source": [
    "sellers.describe()"
   ]
  },
  {
   "cell_type": "code",
   "execution_count": 31,
   "id": "3eb2b5aa-7567-44ba-9b39-122da405851c",
   "metadata": {
    "tags": []
   },
   "outputs": [
    {
     "data": {
      "text/html": [
       "<div>\n",
       "<style scoped>\n",
       "    .dataframe tbody tr th:only-of-type {\n",
       "        vertical-align: middle;\n",
       "    }\n",
       "\n",
       "    .dataframe tbody tr th {\n",
       "        vertical-align: top;\n",
       "    }\n",
       "\n",
       "    .dataframe thead th {\n",
       "        text-align: right;\n",
       "    }\n",
       "</style>\n",
       "<table border=\"1\" class=\"dataframe\">\n",
       "  <thead>\n",
       "    <tr style=\"text-align: right;\">\n",
       "      <th></th>\n",
       "      <th>product_category_name</th>\n",
       "      <th>product_category_name_english</th>\n",
       "    </tr>\n",
       "  </thead>\n",
       "  <tbody>\n",
       "    <tr>\n",
       "      <th>count</th>\n",
       "      <td>71</td>\n",
       "      <td>71</td>\n",
       "    </tr>\n",
       "    <tr>\n",
       "      <th>unique</th>\n",
       "      <td>71</td>\n",
       "      <td>71</td>\n",
       "    </tr>\n",
       "    <tr>\n",
       "      <th>top</th>\n",
       "      <td>beleza_saude</td>\n",
       "      <td>health_beauty</td>\n",
       "    </tr>\n",
       "    <tr>\n",
       "      <th>freq</th>\n",
       "      <td>1</td>\n",
       "      <td>1</td>\n",
       "    </tr>\n",
       "  </tbody>\n",
       "</table>\n",
       "</div>"
      ],
      "text/plain": [
       "       product_category_name product_category_name_english\n",
       "count                     71                            71\n",
       "unique                    71                            71\n",
       "top             beleza_saude                 health_beauty\n",
       "freq                       1                             1"
      ]
     },
     "execution_count": 31,
     "metadata": {},
     "output_type": "execute_result"
    }
   ],
   "source": [
    "product_category_name_translation.describe()"
   ]
  },
  {
   "cell_type": "code",
   "execution_count": 32,
   "id": "84a69de0-8cad-4966-8b12-57cd154d42d8",
   "metadata": {
    "tags": []
   },
   "outputs": [],
   "source": [
    "from sklearn.preprocessing import MinMaxScaler\n",
    "\n",
    "# Feature scaling for numerical columns of Customer dataframe\n",
    "cust_num_cols = ['customer_zip_code_prefix']\n",
    "scaler = preprocessing.MinMaxScaler()\n",
    "customers[cust_num_cols] = scaler.fit_transform(customers[cust_num_cols])\n",
    "\n",
    "# Feature scaling for numerical columns of Geolocation dataframe\n",
    "geo_num_cols = ['geolocation_zip_code_prefix', 'geolocation_lat', 'geolocation_lng']\n",
    "scaler = preprocessing.MinMaxScaler()\n",
    "geolocation[geo_num_cols] = scaler.fit_transform(geolocation[geo_num_cols])\n",
    "\n",
    "# Feature scaling for numerical columns of Order Items dataframe\n",
    "# order_items_num_cols = ['order_item_id', 'price', 'freight_value']\n",
    "# scaler = preprocessing.MinMaxScaler()\n",
    "# order_items[order_items_num_cols] = scaler.fit_transform(order_items[order_items_num_cols])\n",
    "\n",
    "# Feature scaling for numerical columns of Order Payments dataframe\n",
    "# order_payments_num_cols = ['payment_sequential', 'payment_installments', 'payment_value']\n",
    "# scaler = preprocessing.MinMaxScaler()\n",
    "# order_payments[order_payments_num_cols] = scaler.fit_transform(order_payments[order_payments_num_cols])\n",
    "\n",
    "# Feature scaling for numerical columns of Orders dataframe\n",
    "# orders_num_cols = ['order_purchase_timestamp', 'order_approved_at', 'order_delivered_carrier_date', 'order_delivered_customer_date', 'order_estimated_delivery_date']\n",
    "# scaler = preprocessing.MinMaxScaler()\n",
    "# orders[orders_num_cols] = scaler.fit_transform(orders[orders_num_cols])\n",
    "\n",
    "# Feature scaling for numerical columns of Sellers dataframe\n",
    "sellers_num_cols = ['seller_zip_code_prefix']\n",
    "scaler = preprocessing.MinMaxScaler()\n",
    "sellers[sellers_num_cols] = scaler.fit_transform(sellers[sellers_num_cols])"
   ]
  },
  {
   "cell_type": "code",
   "execution_count": 33,
   "id": "41807631-4cc7-4576-ae70-06477460e6bb",
   "metadata": {
    "tags": []
   },
   "outputs": [],
   "source": [
    "name_scaler = preprocessing.MinMaxScaler()\n",
    "products[\"product_name_lenght\"] = name_scaler.fit_transform(products[[\"product_name_lenght\"]])\n",
    "\n",
    "description_scaler = preprocessing.MinMaxScaler()\n",
    "products[\"product_description_lenght\"] = description_scaler.fit_transform(products[[\"product_description_lenght\"]])\n",
    "\n",
    "photo_scaler = preprocessing.MinMaxScaler()\n",
    "products[\"product_photos_qty\"] = photo_scaler.fit_transform(products[[\"product_photos_qty\"]])\n",
    "\n",
    "weight_scaler = preprocessing.MinMaxScaler()\n",
    "products[\"product_weight_g\"] = weight_scaler.fit_transform(products[[\"product_weight_g\"]])\n",
    "\n",
    "lenght_scaler = preprocessing.MinMaxScaler()\n",
    "products[\"product_length_cm\"] = lenght_scaler.fit_transform(products[[\"product_length_cm\"]])\n",
    "\n",
    "height_scaler = preprocessing.MinMaxScaler()\n",
    "products[\"product_height_cm\"] = height_scaler.fit_transform(products[[\"product_height_cm\"]])\n",
    "\n",
    "width_scaler = preprocessing.MinMaxScaler()\n",
    "products[\"product_width_cm\"] = width_scaler.fit_transform(products[[\"product_width_cm\"]])"
   ]
  },
  {
   "cell_type": "markdown",
   "id": "cf19d83e-85d8-4440-836b-f50b301ac94d",
   "metadata": {
    "tags": []
   },
   "source": [
    "\n",
    "Customer Segementation\n"
   ]
  },
  {
   "cell_type": "markdown",
   "id": "c14d82b9",
   "metadata": {},
   "source": [
    "Geolocation\n",
    "\n",
    "Plot of which state have more Customer?"
   ]
  },
  {
   "cell_type": "code",
   "execution_count": 34,
   "id": "1db95e6b-1ecf-4ac6-9a05-2a0b956fc9a3",
   "metadata": {
    "tags": []
   },
   "outputs": [
    {
     "data": {
      "image/png": "[encoded data removed]",
      "text/plain": [
       "<Figure size 1080x360 with 1 Axes>"
      ]
     },
     "metadata": {
      "needs_background": "light"
     },
     "output_type": "display_data"
    }
   ],
   "source": [
    "state = customers.groupby('customer_id')['customer_state'].sum()\n",
    "plt.figure(1, figsize = (15, 5))\n",
    "sns.countplot(y = 'customer_state', data = customers)\n",
    "plt.show()"
   ]
  },
  {
   "cell_type": "markdown",
   "id": "d84c7a4b",
   "metadata": {},
   "source": [
    "Products"
   ]
  },
  {
   "cell_type": "code",
   "execution_count": 35,
   "id": "239dddc3-f551-4452-905e-f144d9eb6afc",
   "metadata": {
    "tags": []
   },
   "outputs": [
    {
     "data": {
      "image/png": "[encoded data removed]",
      "text/plain": [
       "<Figure size 1800x1080 with 1 Axes>"
      ]
     },
     "metadata": {
      "needs_background": "light"
     },
     "output_type": "display_data"
    }
   ],
   "source": [
    "state = products.groupby('product_id')['product_category_name'].sum()\n",
    "plt.figure(1, figsize = (25, 15))\n",
    "sns.countplot(y = 'product_category_name', data = products)\n",
    "plt.show()"
   ]
  },
  {
   "cell_type": "markdown",
   "id": "ba812326",
   "metadata": {},
   "source": [
    "Orders\n",
    "\n",
    "Total Orders on E-Commerce\n",
    "\n",
    "How many orders we have for each status?"
   ]
  },
  {
   "cell_type": "code",
   "execution_count": 36,
   "id": "3e18fcba-1cc8-406e-b804-a8bdd6354370",
   "metadata": {
    "tags": []
   },
   "outputs": [
    {
     "data": {
      "image/png": "[encoded data removed]",
      "text/plain": [
       "<Figure size 1080x720 with 1 Axes>"
      ]
     },
     "metadata": {
      "needs_background": "light"
     },
     "output_type": "display_data"
    }
   ],
   "source": [
    "# Analyze order dataframe\n",
    "order = orders.groupby('customer_id')['order_status'].sum()\n",
    "plt.figure(1, figsize = (15, 10))\n",
    "# Plot a histogram of purchase amounts\n",
    "plt.hist(order, bins=20)\n",
    "plt.xlabel('Order Status')\n",
    "plt.ylabel('Number of Customers')\n",
    "plt.show()"
   ]
  },
  {
   "cell_type": "code",
   "execution_count": 37,
   "id": "9348af1c",
   "metadata": {
    "tags": []
   },
   "outputs": [
    {
     "data": {
      "text/plain": [
       "order_id\n",
       "8272b63d03f5f79c56e9e4120aec44ef    21\n",
       "1b15974a0141d54e36626dca3fdc731a    20\n",
       "ab14fdcfbe524636d65ee38360e22ce8    20\n",
       "9ef13efd6949e4573a18964dd1bbe7f5    15\n",
       "428a2f660dc84138d969ccd69a0ab6d5    15\n",
       "                                    ..\n",
       "5a0911d70c1f85d3bed0df1bf693a6dd     1\n",
       "5a082b558a3798d3e36d93bfa8ca1eae     1\n",
       "5a07264682e0b8fbb3f166edbbffc6e8     1\n",
       "5a071192a28951b76774e5a760c8c9b7     1\n",
       "fffe41c64501cc87c801fd61db3f6244     1\n",
       "Length: 98666, dtype: int64"
      ]
     },
     "execution_count": 37,
     "metadata": {},
     "output_type": "execute_result"
    }
   ],
   "source": [
    "order_items.groupby('order_id').size().sort_values(ascending=False)"
   ]
  },
  {
   "cell_type": "markdown",
   "id": "5ffc7604",
   "metadata": {},
   "source": [
    "Since we have more than 1 product per order, we need to sum the price and the shipping value and get the maximum value of the shipping_limit_date for analysis."
   ]
  },
  {
   "cell_type": "code",
   "execution_count": 38,
   "id": "3d9f254b",
   "metadata": {
    "tags": []
   },
   "outputs": [
    {
     "data": {
      "text/plain": [
       "<AxesSubplot:xlabel='price', ylabel='freight_value'>"
      ]
     },
     "execution_count": 38,
     "metadata": {},
     "output_type": "execute_result"
    },
    {
     "data": {
      "image/png": "[encoded data removed]",
      "text/plain": [
       "<Figure size 432x288 with 1 Axes>"
      ]
     },
     "metadata": {
      "needs_background": "light"
     },
     "output_type": "display_data"
    }
   ],
   "source": [
    "order_total = order_items.groupby('order_id').agg({'price':sum,'freight_value':sum,'shipping_limit_date':max }).reset_index()\n",
    "sns.scatterplot(x='price',y='freight_value',data=order_total)"
   ]
  },
  {
   "cell_type": "markdown",
   "id": "3ac31b42",
   "metadata": {},
   "source": [
    "As you can see, we have some outliers. how come the shipping is over 500 and which order costs over 4000?"
   ]
  },
  {
   "cell_type": "code",
   "execution_count": 39,
   "id": "a9650855",
   "metadata": {
    "tags": []
   },
   "outputs": [
    {
     "data": {
      "text/html": [
       "<div>\n",
       "<style scoped>\n",
       "    .dataframe tbody tr th:only-of-type {\n",
       "        vertical-align: middle;\n",
       "    }\n",
       "\n",
       "    .dataframe tbody tr th {\n",
       "        vertical-align: top;\n",
       "    }\n",
       "\n",
       "    .dataframe thead th {\n",
       "        text-align: right;\n",
       "    }\n",
       "</style>\n",
       "<table border=\"1\" class=\"dataframe\">\n",
       "  <thead>\n",
       "    <tr style=\"text-align: right;\">\n",
       "      <th></th>\n",
       "      <th>price</th>\n",
       "      <th>freight_value</th>\n",
       "    </tr>\n",
       "  </thead>\n",
       "  <tbody>\n",
       "    <tr>\n",
       "      <th>count</th>\n",
       "      <td>98666.000000</td>\n",
       "      <td>98666.000000</td>\n",
       "    </tr>\n",
       "    <tr>\n",
       "      <th>mean</th>\n",
       "      <td>137.754076</td>\n",
       "      <td>22.823562</td>\n",
       "    </tr>\n",
       "    <tr>\n",
       "      <th>std</th>\n",
       "      <td>210.645145</td>\n",
       "      <td>21.650909</td>\n",
       "    </tr>\n",
       "    <tr>\n",
       "      <th>min</th>\n",
       "      <td>0.850000</td>\n",
       "      <td>0.000000</td>\n",
       "    </tr>\n",
       "    <tr>\n",
       "      <th>25%</th>\n",
       "      <td>45.900000</td>\n",
       "      <td>13.850000</td>\n",
       "    </tr>\n",
       "    <tr>\n",
       "      <th>50%</th>\n",
       "      <td>86.900000</td>\n",
       "      <td>17.170000</td>\n",
       "    </tr>\n",
       "    <tr>\n",
       "      <th>75%</th>\n",
       "      <td>149.900000</td>\n",
       "      <td>24.040000</td>\n",
       "    </tr>\n",
       "    <tr>\n",
       "      <th>max</th>\n",
       "      <td>13440.000000</td>\n",
       "      <td>1794.960000</td>\n",
       "    </tr>\n",
       "  </tbody>\n",
       "</table>\n",
       "</div>"
      ],
      "text/plain": [
       "              price  freight_value\n",
       "count  98666.000000   98666.000000\n",
       "mean     137.754076      22.823562\n",
       "std      210.645145      21.650909\n",
       "min        0.850000       0.000000\n",
       "25%       45.900000      13.850000\n",
       "50%       86.900000      17.170000\n",
       "75%      149.900000      24.040000\n",
       "max    13440.000000    1794.960000"
      ]
     },
     "execution_count": 39,
     "metadata": {},
     "output_type": "execute_result"
    }
   ],
   "source": [
    "order_total.describe()"
   ]
  },
  {
   "cell_type": "code",
   "execution_count": 40,
   "id": "257a4b20",
   "metadata": {
    "tags": []
   },
   "outputs": [
    {
     "data": {
      "text/html": [
       "<div>\n",
       "<style scoped>\n",
       "    .dataframe tbody tr th:only-of-type {\n",
       "        vertical-align: middle;\n",
       "    }\n",
       "\n",
       "    .dataframe tbody tr th {\n",
       "        vertical-align: top;\n",
       "    }\n",
       "\n",
       "    .dataframe thead th {\n",
       "        text-align: right;\n",
       "    }\n",
       "</style>\n",
       "<table border=\"1\" class=\"dataframe\">\n",
       "  <thead>\n",
       "    <tr style=\"text-align: right;\">\n",
       "      <th></th>\n",
       "      <th>order_id</th>\n",
       "      <th>price</th>\n",
       "      <th>freight_value</th>\n",
       "      <th>shipping_limit_date</th>\n",
       "    </tr>\n",
       "  </thead>\n",
       "  <tbody>\n",
       "    <tr>\n",
       "      <th>0</th>\n",
       "      <td>00010242fe8c5a6d1ba2dd792cb16214</td>\n",
       "      <td>58.90</td>\n",
       "      <td>13.29</td>\n",
       "      <td>2017-09-19 09:45:35</td>\n",
       "    </tr>\n",
       "    <tr>\n",
       "      <th>1</th>\n",
       "      <td>00018f77f2f0320c557190d7a144bdd3</td>\n",
       "      <td>239.90</td>\n",
       "      <td>19.93</td>\n",
       "      <td>2017-05-03 11:05:13</td>\n",
       "    </tr>\n",
       "    <tr>\n",
       "      <th>2</th>\n",
       "      <td>000229ec398224ef6ca0657da4fc703e</td>\n",
       "      <td>199.00</td>\n",
       "      <td>17.87</td>\n",
       "      <td>2018-01-18 14:48:30</td>\n",
       "    </tr>\n",
       "    <tr>\n",
       "      <th>3</th>\n",
       "      <td>00024acbcdf0a6daa1e931b038114c75</td>\n",
       "      <td>12.99</td>\n",
       "      <td>12.79</td>\n",
       "      <td>2018-08-15 10:10:18</td>\n",
       "    </tr>\n",
       "    <tr>\n",
       "      <th>4</th>\n",
       "      <td>00042b26cf59d7ce69dfabb4e55b4fd9</td>\n",
       "      <td>199.90</td>\n",
       "      <td>18.14</td>\n",
       "      <td>2017-02-13 13:57:51</td>\n",
       "    </tr>\n",
       "    <tr>\n",
       "      <th>...</th>\n",
       "      <td>...</td>\n",
       "      <td>...</td>\n",
       "      <td>...</td>\n",
       "      <td>...</td>\n",
       "    </tr>\n",
       "    <tr>\n",
       "      <th>98661</th>\n",
       "      <td>fffc94f6ce00a00581880bf54a75a037</td>\n",
       "      <td>299.99</td>\n",
       "      <td>43.41</td>\n",
       "      <td>2018-05-02 04:11:01</td>\n",
       "    </tr>\n",
       "    <tr>\n",
       "      <th>98662</th>\n",
       "      <td>fffcd46ef2263f404302a634eb57f7eb</td>\n",
       "      <td>350.00</td>\n",
       "      <td>36.53</td>\n",
       "      <td>2018-07-20 04:31:48</td>\n",
       "    </tr>\n",
       "    <tr>\n",
       "      <th>98663</th>\n",
       "      <td>fffce4705a9662cd70adb13d4a31832d</td>\n",
       "      <td>99.90</td>\n",
       "      <td>16.95</td>\n",
       "      <td>2017-10-30 17:14:25</td>\n",
       "    </tr>\n",
       "    <tr>\n",
       "      <th>98664</th>\n",
       "      <td>fffe18544ffabc95dfada21779c9644f</td>\n",
       "      <td>55.99</td>\n",
       "      <td>8.72</td>\n",
       "      <td>2017-08-21 00:04:32</td>\n",
       "    </tr>\n",
       "    <tr>\n",
       "      <th>98665</th>\n",
       "      <td>fffe41c64501cc87c801fd61db3f6244</td>\n",
       "      <td>43.00</td>\n",
       "      <td>12.79</td>\n",
       "      <td>2018-06-12 17:10:13</td>\n",
       "    </tr>\n",
       "  </tbody>\n",
       "</table>\n",
       "<p>98666 rows × 4 columns</p>\n",
       "</div>"
      ],
      "text/plain": [
       "                               order_id   price  freight_value  \\\n",
       "0      00010242fe8c5a6d1ba2dd792cb16214   58.90          13.29   \n",
       "1      00018f77f2f0320c557190d7a144bdd3  239.90          19.93   \n",
       "2      000229ec398224ef6ca0657da4fc703e  199.00          17.87   \n",
       "3      00024acbcdf0a6daa1e931b038114c75   12.99          12.79   \n",
       "4      00042b26cf59d7ce69dfabb4e55b4fd9  199.90          18.14   \n",
       "...                                 ...     ...            ...   \n",
       "98661  fffc94f6ce00a00581880bf54a75a037  299.99          43.41   \n",
       "98662  fffcd46ef2263f404302a634eb57f7eb  350.00          36.53   \n",
       "98663  fffce4705a9662cd70adb13d4a31832d   99.90          16.95   \n",
       "98664  fffe18544ffabc95dfada21779c9644f   55.99           8.72   \n",
       "98665  fffe41c64501cc87c801fd61db3f6244   43.00          12.79   \n",
       "\n",
       "      shipping_limit_date  \n",
       "0     2017-09-19 09:45:35  \n",
       "1     2017-05-03 11:05:13  \n",
       "2     2018-01-18 14:48:30  \n",
       "3     2018-08-15 10:10:18  \n",
       "4     2017-02-13 13:57:51  \n",
       "...                   ...  \n",
       "98661 2018-05-02 04:11:01  \n",
       "98662 2018-07-20 04:31:48  \n",
       "98663 2017-10-30 17:14:25  \n",
       "98664 2017-08-21 00:04:32  \n",
       "98665 2018-06-12 17:10:13  \n",
       "\n",
       "[98666 rows x 4 columns]"
      ]
     },
     "execution_count": 40,
     "metadata": {},
     "output_type": "execute_result"
    }
   ],
   "source": [
    "order_total"
   ]
  },
  {
   "cell_type": "code",
   "execution_count": 41,
   "id": "f1fff68d",
   "metadata": {
    "tags": []
   },
   "outputs": [
    {
     "name": "stdout",
     "output_type": "stream",
     "text": [
      "count    96476.000000\n",
      "mean        10.876881\n",
      "std         10.183854\n",
      "min       -189.000000\n",
      "25%          6.000000\n",
      "50%         11.000000\n",
      "75%         16.000000\n",
      "max        146.000000\n",
      "Name: diff_delivery_days, dtype: float64\n"
     ]
    }
   ],
   "source": [
    "orders['diff_delivery_days'] = (orders['order_estimated_delivery_date'] - orders['order_delivered_customer_date']).dt.days\n",
    "orders.groupby(orders['diff_delivery_days'] < 0).size()\n",
    "print(orders['diff_delivery_days'].describe())"
   ]
  },
  {
   "cell_type": "markdown",
   "id": "31824c12",
   "metadata": {},
   "source": [
    "As we can see, the average difference between the estimated delivery and the actual delivery is 10 days, which is a bit high. Another fact is that an order was delivery 6 month later and other order was a high estimated date."
   ]
  },
  {
   "cell_type": "code",
   "execution_count": 42,
   "id": "ece1b93d",
   "metadata": {
    "tags": []
   },
   "outputs": [
    {
     "data": {
      "image/png": "[encoded data removed]",
      "text/plain": [
       "<Figure size 1080x720 with 1 Axes>"
      ]
     },
     "metadata": {
      "needs_background": "light"
     },
     "output_type": "display_data"
    }
   ],
   "source": [
    "plt.figure(figsize=(15, 10))\n",
    "sns.histplot(x='diff_delivery_days', data=orders)\n",
    "plt.title('Distribution of time taken for order to get delivered',fontweight='bold',fontsize=20)\n",
    "plt.xlabel('Days',fontsize=15)\n",
    "plt.ylabel('Density of orders',fontsize=15)\n",
    "plt.show()"
   ]
  },
  {
   "cell_type": "code",
   "execution_count": 43,
   "id": "19321ae6",
   "metadata": {
    "tags": []
   },
   "outputs": [
    {
     "data": {
      "text/html": [
       "<div>\n",
       "<style scoped>\n",
       "    .dataframe tbody tr th:only-of-type {\n",
       "        vertical-align: middle;\n",
       "    }\n",
       "\n",
       "    .dataframe tbody tr th {\n",
       "        vertical-align: top;\n",
       "    }\n",
       "\n",
       "    .dataframe thead th {\n",
       "        text-align: right;\n",
       "    }\n",
       "</style>\n",
       "<table border=\"1\" class=\"dataframe\">\n",
       "  <thead>\n",
       "    <tr style=\"text-align: right;\">\n",
       "      <th></th>\n",
       "      <th>order_id</th>\n",
       "      <th>customer_id</th>\n",
       "      <th>order_status</th>\n",
       "      <th>order_purchase_timestamp</th>\n",
       "      <th>order_approved_at</th>\n",
       "      <th>order_delivered_carrier_date</th>\n",
       "      <th>order_delivered_customer_date</th>\n",
       "      <th>order_estimated_delivery_date</th>\n",
       "      <th>diff_delivery_days</th>\n",
       "      <th>order_purchase_year</th>\n",
       "      <th>order_purchase_month</th>\n",
       "      <th>order_purchase_month_name</th>\n",
       "      <th>order_purchase_year_month</th>\n",
       "      <th>order_purchase_date</th>\n",
       "      <th>order_purchase_day</th>\n",
       "      <th>order_purchase_dayofweek</th>\n",
       "      <th>order_purchase_dayofweek_name</th>\n",
       "      <th>order_purchase_hour</th>\n",
       "      <th>order_purchase_time_day</th>\n",
       "    </tr>\n",
       "  </thead>\n",
       "  <tbody>\n",
       "    <tr>\n",
       "      <th>0</th>\n",
       "      <td>e481f51cbdc54678b7cc49136f2d6af7</td>\n",
       "      <td>9ef432eb6251297304e76186b10a928d</td>\n",
       "      <td>delivered</td>\n",
       "      <td>2017-10-02 10:56:33</td>\n",
       "      <td>2017-10-02 11:07:15</td>\n",
       "      <td>2017-10-04 19:55:00</td>\n",
       "      <td>2017-10-10 21:25:13</td>\n",
       "      <td>2017-10-18</td>\n",
       "      <td>7.0</td>\n",
       "      <td>2017</td>\n",
       "      <td>10</td>\n",
       "      <td>Oct</td>\n",
       "      <td>201710</td>\n",
       "      <td>20171002</td>\n",
       "      <td>2</td>\n",
       "      <td>0</td>\n",
       "      <td>Mon</td>\n",
       "      <td>10</td>\n",
       "      <td>Morning</td>\n",
       "    </tr>\n",
       "    <tr>\n",
       "      <th>1</th>\n",
       "      <td>53cdb2fc8bc7dce0b6741e2150273451</td>\n",
       "      <td>b0830fb4747a6c6d20dea0b8c802d7ef</td>\n",
       "      <td>delivered</td>\n",
       "      <td>2018-07-24 20:41:37</td>\n",
       "      <td>2018-07-26 03:24:27</td>\n",
       "      <td>2018-07-26 14:31:00</td>\n",
       "      <td>2018-08-07 15:27:45</td>\n",
       "      <td>2018-08-13</td>\n",
       "      <td>5.0</td>\n",
       "      <td>2018</td>\n",
       "      <td>7</td>\n",
       "      <td>Jul</td>\n",
       "      <td>201807</td>\n",
       "      <td>20180724</td>\n",
       "      <td>24</td>\n",
       "      <td>1</td>\n",
       "      <td>Tue</td>\n",
       "      <td>20</td>\n",
       "      <td>Night</td>\n",
       "    </tr>\n",
       "    <tr>\n",
       "      <th>2</th>\n",
       "      <td>47770eb9100c2d0c44946d9cf07ec65d</td>\n",
       "      <td>41ce2a54c0b03bf3443c3d931a367089</td>\n",
       "      <td>delivered</td>\n",
       "      <td>2018-08-08 08:38:49</td>\n",
       "      <td>2018-08-08 08:55:23</td>\n",
       "      <td>2018-08-08 13:50:00</td>\n",
       "      <td>2018-08-17 18:06:29</td>\n",
       "      <td>2018-09-04</td>\n",
       "      <td>17.0</td>\n",
       "      <td>2018</td>\n",
       "      <td>8</td>\n",
       "      <td>Aug</td>\n",
       "      <td>201808</td>\n",
       "      <td>20180808</td>\n",
       "      <td>8</td>\n",
       "      <td>2</td>\n",
       "      <td>Wed</td>\n",
       "      <td>8</td>\n",
       "      <td>Morning</td>\n",
       "    </tr>\n",
       "    <tr>\n",
       "      <th>3</th>\n",
       "      <td>949d5b44dbf5de918fe9c16f97b45f8a</td>\n",
       "      <td>f88197465ea7920adcdbec7375364d82</td>\n",
       "      <td>delivered</td>\n",
       "      <td>2017-11-18 19:28:06</td>\n",
       "      <td>2017-11-18 19:45:59</td>\n",
       "      <td>2017-11-22 13:39:59</td>\n",
       "      <td>2017-12-02 00:28:42</td>\n",
       "      <td>2017-12-15</td>\n",
       "      <td>12.0</td>\n",
       "      <td>2017</td>\n",
       "      <td>11</td>\n",
       "      <td>Nov</td>\n",
       "      <td>201711</td>\n",
       "      <td>20171118</td>\n",
       "      <td>18</td>\n",
       "      <td>5</td>\n",
       "      <td>Sat</td>\n",
       "      <td>19</td>\n",
       "      <td>Night</td>\n",
       "    </tr>\n",
       "    <tr>\n",
       "      <th>4</th>\n",
       "      <td>ad21c59c0840e6cb83a9ceb5573f8159</td>\n",
       "      <td>8ab97904e6daea8866dbdbc4fb7aad2c</td>\n",
       "      <td>delivered</td>\n",
       "      <td>2018-02-13 21:18:39</td>\n",
       "      <td>2018-02-13 22:20:29</td>\n",
       "      <td>2018-02-14 19:46:34</td>\n",
       "      <td>2018-02-16 18:17:02</td>\n",
       "      <td>2018-02-26</td>\n",
       "      <td>9.0</td>\n",
       "      <td>2018</td>\n",
       "      <td>2</td>\n",
       "      <td>Feb</td>\n",
       "      <td>201802</td>\n",
       "      <td>20180213</td>\n",
       "      <td>13</td>\n",
       "      <td>1</td>\n",
       "      <td>Tue</td>\n",
       "      <td>21</td>\n",
       "      <td>Night</td>\n",
       "    </tr>\n",
       "  </tbody>\n",
       "</table>\n",
       "</div>"
      ],
      "text/plain": [
       "                           order_id                       customer_id  \\\n",
       "0  e481f51cbdc54678b7cc49136f2d6af7  9ef432eb6251297304e76186b10a928d   \n",
       "1  53cdb2fc8bc7dce0b6741e2150273451  b0830fb4747a6c6d20dea0b8c802d7ef   \n",
       "2  47770eb9100c2d0c44946d9cf07ec65d  41ce2a54c0b03bf3443c3d931a367089   \n",
       "3  949d5b44dbf5de918fe9c16f97b45f8a  f88197465ea7920adcdbec7375364d82   \n",
       "4  ad21c59c0840e6cb83a9ceb5573f8159  8ab97904e6daea8866dbdbc4fb7aad2c   \n",
       "\n",
       "  order_status order_purchase_timestamp   order_approved_at  \\\n",
       "0    delivered      2017-10-02 10:56:33 2017-10-02 11:07:15   \n",
       "1    delivered      2018-07-24 20:41:37 2018-07-26 03:24:27   \n",
       "2    delivered      2018-08-08 08:38:49 2018-08-08 08:55:23   \n",
       "3    delivered      2017-11-18 19:28:06 2017-11-18 19:45:59   \n",
       "4    delivered      2018-02-13 21:18:39 2018-02-13 22:20:29   \n",
       "\n",
       "  order_delivered_carrier_date order_delivered_customer_date  \\\n",
       "0          2017-10-04 19:55:00           2017-10-10 21:25:13   \n",
       "1          2018-07-26 14:31:00           2018-08-07 15:27:45   \n",
       "2          2018-08-08 13:50:00           2018-08-17 18:06:29   \n",
       "3          2017-11-22 13:39:59           2017-12-02 00:28:42   \n",
       "4          2018-02-14 19:46:34           2018-02-16 18:17:02   \n",
       "\n",
       "  order_estimated_delivery_date  diff_delivery_days  order_purchase_year  \\\n",
       "0                    2017-10-18                 7.0                 2017   \n",
       "1                    2018-08-13                 5.0                 2018   \n",
       "2                    2018-09-04                17.0                 2018   \n",
       "3                    2017-12-15                12.0                 2017   \n",
       "4                    2018-02-26                 9.0                 2018   \n",
       "\n",
       "   order_purchase_month order_purchase_month_name order_purchase_year_month  \\\n",
       "0                    10                       Oct                    201710   \n",
       "1                     7                       Jul                    201807   \n",
       "2                     8                       Aug                    201808   \n",
       "3                    11                       Nov                    201711   \n",
       "4                     2                       Feb                    201802   \n",
       "\n",
       "  order_purchase_date  order_purchase_day  order_purchase_dayofweek  \\\n",
       "0            20171002                   2                         0   \n",
       "1            20180724                  24                         1   \n",
       "2            20180808                   8                         2   \n",
       "3            20171118                  18                         5   \n",
       "4            20180213                  13                         1   \n",
       "\n",
       "  order_purchase_dayofweek_name  order_purchase_hour order_purchase_time_day  \n",
       "0                           Mon                   10                 Morning  \n",
       "1                           Tue                   20                   Night  \n",
       "2                           Wed                    8                 Morning  \n",
       "3                           Sat                   19                   Night  \n",
       "4                           Tue                   21                   Night  "
      ]
     },
     "execution_count": 43,
     "metadata": {},
     "output_type": "execute_result"
    }
   ],
   "source": [
    "# Extracting attributes for purchase date - Year and Month\n",
    "orders['order_purchase_year'] = orders['order_purchase_timestamp'].apply(lambda x: x.year)\n",
    "orders['order_purchase_month'] = orders['order_purchase_timestamp'].apply(lambda x: x.month)\n",
    "orders['order_purchase_month_name'] = orders['order_purchase_timestamp'].apply(lambda x: x.strftime('%b'))\n",
    "orders['order_purchase_year_month'] = orders['order_purchase_timestamp'].apply(lambda x: x.strftime('%Y%m'))\n",
    "orders['order_purchase_date'] = orders['order_purchase_timestamp'].apply(lambda x: x.strftime('%Y%m%d'))\n",
    "\n",
    "# Extracting attributes for purchase date - Day and Day of Week\n",
    "orders['order_purchase_day'] = orders['order_purchase_timestamp'].apply(lambda x: x.day)\n",
    "orders['order_purchase_dayofweek'] = orders['order_purchase_timestamp'].apply(lambda x: x.dayofweek)\n",
    "orders['order_purchase_dayofweek_name'] = orders['order_purchase_timestamp'].apply(lambda x: x.strftime('%a'))\n",
    "\n",
    "# Extracting attributes for purchase date - Hour and Time of the Day\n",
    "orders['order_purchase_hour'] = orders['order_purchase_timestamp'].apply(lambda x: x.hour)\n",
    "hours_bins = [-0.1, 6, 12, 18, 23]\n",
    "hours_labels = ['Dawn', 'Morning', 'Afternoon', 'Night']\n",
    "orders['order_purchase_time_day'] = pd.cut(orders['order_purchase_hour'], hours_bins, labels=hours_labels)\n",
    "\n",
    "# New DataFrame after transformations\n",
    "orders.head()"
   ]
  },
  {
   "cell_type": "markdown",
   "id": "a4a24643",
   "metadata": {},
   "source": [
    "\n",
    "Is there any growing trend on e-commerce?\n"
   ]
  },
  {
   "cell_type": "code",
   "execution_count": 44,
   "id": "ce762767",
   "metadata": {
    "tags": []
   },
   "outputs": [
    {
     "data": {
      "image/png": "[encoded data removed]",
      "text/plain": [
       "<Figure size 1080x720 with 1 Axes>"
      ]
     },
     "metadata": {
      "needs_background": "light"
     },
     "output_type": "display_data"
    }
   ],
   "source": [
    "# get the count of orders purchased by year\n",
    "orders_by_year = orders.groupby('order_purchase_year')['order_id'].count().reset_index()\n",
    "\n",
    "# plot the count of orders purchased by year\n",
    "plt.figure(figsize=(15, 10))\n",
    "sns.barplot(x='order_purchase_year', y='order_id', data=orders_by_year)\n",
    "plt.title('Count of Orders Purchased by Year')\n",
    "plt.xlabel('Year')\n",
    "plt.ylabel('Count')\n",
    "plt.show()"
   ]
  },
  {
   "cell_type": "code",
   "execution_count": 45,
   "id": "a695fe90-8208-4d83-bf3e-9e84a7c6ad64",
   "metadata": {
    "tags": []
   },
   "outputs": [
    {
     "data": {
      "image/png": "[encoded data removed]",
      "text/plain": [
       "<Figure size 1080x720 with 1 Axes>"
      ]
     },
     "metadata": {
      "needs_background": "light"
     },
     "output_type": "display_data"
    }
   ],
   "source": [
    "# Which payment type use the most?\n",
    "p_type = order_payments.groupby('order_id')['payment_type'].sum()\n",
    "plt.figure(1, figsize = (15, 10))\n",
    "sns.countplot(y = 'payment_type', data = order_payments)\n",
    "plt.show()"
   ]
  },
  {
   "cell_type": "code",
   "execution_count": 46,
   "id": "73f00545",
   "metadata": {
    "tags": []
   },
   "outputs": [
    {
     "data": {
      "image/png": "[encoded data removed]",
      "text/plain": [
       "<Figure size 1080x360 with 1 Axes>"
      ]
     },
     "metadata": {
      "needs_background": "light"
     },
     "output_type": "display_data"
    }
   ],
   "source": [
    "order_payments.payment_installments.value_counts(normalize = True)[:10] * 100\n",
    "plt.figure(figsize=(15, 5))\n",
    "sns.countplot(x='payment_installments',data=order_payments)\n",
    "plt.title('Number of Payment Installments',fontweight='bold',fontsize=20)\n",
    "plt.xlabel('Payment Installments',fontsize=15,color='black')\n",
    "plt.ylabel('No. of Customers',fontsize=15,color='black')\n",
    "plt.show()"
   ]
  },
  {
   "cell_type": "code",
   "execution_count": 47,
   "id": "e410470b-b37d-40f1-ac2d-04f088982b30",
   "metadata": {},
   "outputs": [
    {
     "name": "stdout",
     "output_type": "stream",
     "text": [
      "Positive Review Rate: 76.62%\n",
      "Neutral Review Rate: 8.29%\n",
      "Negative Review Rate: 15.09%\n"
     ]
    }
   ],
   "source": [
    "# Calculate the total number of reviews\n",
    "total_reviews = len(order_review)\n",
    "\n",
    "# Calculate the number of positive reviews (score > 3)\n",
    "positive_reviews = len(order_review[order_review['review_score'] > 3])\n",
    "\n",
    "# Calculate the number of neutral reviews (score = 3)\n",
    "neutral_reviews = len(order_review[order_review['review_score'] == 3])\n",
    "\n",
    "# Calculate the number of negative reviews (score < 3)\n",
    "negative_reviews = len(order_review[order_review['review_score'] < 3])\n",
    "\n",
    "# Calculate the review score rate\n",
    "positive_rate = positive_reviews / total_reviews\n",
    "neutral_rate = neutral_reviews / total_reviews\n",
    "negative_rate = negative_reviews / total_reviews\n",
    "\n",
    "# Print the results\n",
    "print(\"Positive Review Rate: {:.2f}%\".format(positive_rate * 100))\n",
    "print(\"Neutral Review Rate: {:.2f}%\".format(neutral_rate * 100))\n",
    "print(\"Negative Review Rate: {:.2f}%\".format(negative_rate * 100))"
   ]
  },
  {
   "cell_type": "code",
   "execution_count": 48,
   "id": "052a3ad7-7956-4299-baa2-4943b3380236",
   "metadata": {
    "tags": []
   },
   "outputs": [
    {
     "data": {
      "image/png": "[encoded data removed]",
      "text/plain": [
       "<Figure size 1008x432 with 1 Axes>"
      ]
     },
     "metadata": {
      "needs_background": "light"
     },
     "output_type": "display_data"
    }
   ],
   "source": [
    "# Calculate the distribution of review scores\n",
    "review_scores = order_review['review_score']\n",
    "score_counts = review_scores.value_counts().sort_index()\n",
    "\n",
    "# Plot the distribution of review scores\n",
    "plt.figure(figsize = (14,6))\n",
    "plt.bar(score_counts.index, score_counts.values)\n",
    "plt.title('Distribution of Review Scores')\n",
    "plt.xlabel('Review Score')\n",
    "plt.ylabel('Number of Reviews')\n",
    "plt.show()"
   ]
  },
  {
   "cell_type": "code",
   "execution_count": 49,
   "id": "efafe5da-f4a4-4d74-b8e3-ffe2594c3f53",
   "metadata": {},
   "outputs": [],
   "source": [
    "review = order_review.drop('review_comment_message',axis=1)"
   ]
  },
  {
   "cell_type": "code",
   "execution_count": 50,
   "id": "17b3ec21-591a-4d98-b753-0b1dfc995a73",
   "metadata": {},
   "outputs": [],
   "source": [
    "def fill_title(row):\n",
    "    if row['review_score'] >4:\n",
    "        val = \"Super recomended\"\n",
    "    elif row['review_score'] >3:\n",
    "        val = \"Recomended\"\n",
    "    elif row['review_score'] >2:\n",
    "        val = \"Average\"\n",
    "    elif row['review_score'] >1:\n",
    "        val = \"Not good\"\n",
    "    else:    \n",
    "        val = 'Very Bad'\n",
    "    return val"
   ]
  },
  {
   "cell_type": "code",
   "execution_count": 51,
   "id": "34920331-5499-46eb-a2b6-e119d2dc129f",
   "metadata": {},
   "outputs": [],
   "source": [
    "order_review['review_comment_title'] = order_review.apply(fill_title, axis=1)"
   ]
  },
  {
   "cell_type": "code",
   "execution_count": 52,
   "id": "70c8c6d7-ce65-41fa-8c16-8dd67c7388c5",
   "metadata": {
    "tags": []
   },
   "outputs": [
    {
     "data": {
      "image/png": "[encoded data removed]",
      "text/plain": [
       "<Figure size 1008x432 with 1 Axes>"
      ]
     },
     "metadata": {
      "needs_background": "light"
     },
     "output_type": "display_data"
    }
   ],
   "source": [
    "# Calculate the distribution of review comment\n",
    "review_comment = order_review['review_comment_title']\n",
    "score_counts = review_comment.value_counts().sort_index()\n",
    "\n",
    "# Plot the distribution of review comment\n",
    "plt.figure(figsize = (14,6))\n",
    "plt.bar(score_counts.index, score_counts.values)\n",
    "plt.title('Distribution of Review Comment')\n",
    "plt.xlabel('Review Comments')\n",
    "plt.ylabel('Number of Reviews')\n",
    "plt.show()"
   ]
  },
  {
   "cell_type": "markdown",
   "id": "3433bda5",
   "metadata": {},
   "source": [
    "RFM ANALYSIS\n",
    "\n",
    "\n",
    "What is RFM analysis?\n",
    "\n",
    "RFM stands for recency, frequency, monetary value. In business analytics, we often use this concept to divide customers into different segments, like high-value customers, medium value customers or low-value customers, and similarly many others.\n",
    "\n",
    "Let’s assume we are a company, our company name is geek, let’s perform the RFM analysis on our customers\n",
    "\n",
    "Recency: How recently has the customer made a transaction with us\n",
    "\n",
    "Frequency: How frequent is the customer in ordering/buying some product from us\n",
    "\n",
    "Monetary: How much does the customer spend on purchasing products from us.\n",
    "\n"
   ]
  },
  {
   "cell_type": "code",
   "execution_count": 53,
   "id": "8ba405b2-25a8-4d07-9958-270612b8b8a9",
   "metadata": {},
   "outputs": [],
   "source": [
    "orders_total_combins = orders.merge(order_total, on='order_id', how='inner')"
   ]
  },
  {
   "cell_type": "code",
   "execution_count": 54,
   "id": "d1c4b5e7",
   "metadata": {},
   "outputs": [],
   "source": [
    "orders_customers = customers.merge(orders_total_combins, on='customer_id', how='inner')"
   ]
  },
  {
   "cell_type": "code",
   "execution_count": 55,
   "id": "c11216bf",
   "metadata": {},
   "outputs": [],
   "source": [
    "max_date = max(orders_customers['order_purchase_timestamp'])\n",
    "rfm_data = orders_customers.groupby('customer_unique_id').agg({\n",
    "    'order_purchase_timestamp': lambda x: (max_date - x.max()).days,\n",
    "    'customer_id':'count',\n",
    "    'price':'sum'\n",
    "}).reset_index()\n",
    "rfm_data.columns =['customer_id','recency','frequency','monetary']"
   ]
  },
  {
   "cell_type": "markdown",
   "id": "a42f3594",
   "metadata": {},
   "source": [
    "Note that the frequency of customers is the big problem for the classification, because only 3% of customers made more than one purchase but is something that's very common in ecommerce."
   ]
  },
  {
   "cell_type": "code",
   "execution_count": 56,
   "id": "ca9d513c",
   "metadata": {
    "tags": []
   },
   "outputs": [
    {
     "name": "stdout",
     "output_type": "stream",
     "text": [
      "0.030528191154894153\n",
      "count    95420.000000\n",
      "mean         1.034018\n",
      "std          0.211234\n",
      "min          1.000000\n",
      "25%          1.000000\n",
      "50%          1.000000\n",
      "75%          1.000000\n",
      "max         16.000000\n",
      "Name: frequency, dtype: float64\n"
     ]
    },
    {
     "data": {
      "text/plain": [
       "<AxesSubplot:xlabel='frequency', ylabel='Count'>"
      ]
     },
     "execution_count": 56,
     "metadata": {},
     "output_type": "execute_result"
    },
    {
     "data": {
      "image/png": "[encoded data removed]",
      "text/plain": [
       "<Figure size 432x288 with 1 Axes>"
      ]
     },
     "metadata": {
      "needs_background": "light"
     },
     "output_type": "display_data"
    }
   ],
   "source": [
    "print(rfm_data[rfm_data['frequency']>1].shape[0] / rfm_data.shape[0])\n",
    "print(rfm_data['frequency'].describe())\n",
    "sns.histplot(x='frequency', data=rfm_data, kde=True)"
   ]
  },
  {
   "cell_type": "markdown",
   "id": "0eb7cb5a",
   "metadata": {},
   "source": [
    "An average monetary customer is 142  and  75 percentage of the customers spend less than 150 and the maximum was 13440."
   ]
  },
  {
   "cell_type": "code",
   "execution_count": 57,
   "id": "2e6632ce",
   "metadata": {
    "tags": []
   },
   "outputs": [
    {
     "name": "stdout",
     "output_type": "stream",
     "text": [
      "count    95420.000000\n",
      "mean       142.440198\n",
      "std        217.656355\n",
      "min          0.850000\n",
      "25%         47.900000\n",
      "50%         89.900000\n",
      "75%        155.000000\n",
      "max      13440.000000\n",
      "Name: monetary, dtype: float64\n"
     ]
    },
    {
     "data": {
      "text/plain": [
       "<AxesSubplot:xlabel='monetary', ylabel='Count'>"
      ]
     },
     "execution_count": 57,
     "metadata": {},
     "output_type": "execute_result"
    },
    {
     "data": {
      "image/png": "[encoded data removed]",
      "text/plain": [
       "<Figure size 432x288 with 1 Axes>"
      ]
     },
     "metadata": {
      "needs_background": "light"
     },
     "output_type": "display_data"
    }
   ],
   "source": [
    "print(rfm_data['monetary'].describe())\n",
    "sns.histplot(x='monetary', data=rfm_data, kde=True)"
   ]
  },
  {
   "cell_type": "markdown",
   "id": "2578d60c",
   "metadata": {},
   "source": [
    "As we can see the 25% of customers have a recency of 3.9 months with an average of 8 months. With a purchase frequency equivalent to 1 and with this recency this indicates that customers make very specific purchases."
   ]
  },
  {
   "cell_type": "code",
   "execution_count": 58,
   "id": "3522cb83",
   "metadata": {
    "tags": []
   },
   "outputs": [
    {
     "name": "stdout",
     "output_type": "stream",
     "text": [
      "count    95420.000000\n",
      "mean       242.600377\n",
      "std        153.160320\n",
      "min          0.000000\n",
      "25%        118.000000\n",
      "50%        223.000000\n",
      "75%        352.000000\n",
      "max        728.000000\n",
      "Name: recency, dtype: float64\n"
     ]
    },
    {
     "data": {
      "text/plain": [
       "<AxesSubplot:xlabel='recency', ylabel='Count'>"
      ]
     },
     "execution_count": 58,
     "metadata": {},
     "output_type": "execute_result"
    },
    {
     "data": {
      "image/png": "[encoded data removed]",
      "text/plain": [
       "<Figure size 432x288 with 1 Axes>"
      ]
     },
     "metadata": {
      "needs_background": "light"
     },
     "output_type": "display_data"
    }
   ],
   "source": [
    "print(rfm_data['recency'].describe())\n",
    "sns.histplot(x='recency', data=rfm_data, kde=True)"
   ]
  }
 ],
 "metadata": {
  "kernelspec": {
   "display_name": "Python 3 (ipykernel)",
   "language": "python",
   "name": "python3"
  },
  "language_info": {
   "codemirror_mode": {
    "name": "ipython",
    "version": 3
   },
   "file_extension": ".py",
   "mimetype": "text/x-python",
   "name": "python",
   "nbconvert_exporter": "python",
   "pygments_lexer": "ipython3",
   "version": "3.9.12"
  }
 },
 "nbformat": 4,
 "nbformat_minor": 5
}
